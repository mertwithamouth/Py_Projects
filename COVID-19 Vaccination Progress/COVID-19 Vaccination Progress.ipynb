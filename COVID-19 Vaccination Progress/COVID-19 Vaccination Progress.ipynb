{
 "cells": [
  {
   "cell_type": "markdown",
   "metadata": {},
   "source": [
    "# COVID-19 Vaccination Progress\n",
    "\n",
    "\n",
    "\n",
    "\n",
    "## Introduction\n",
    "The data contains the following information:\n",
    "\n",
    "Country - this is the country for which the vaccination information is provided;<br>\n",
    "\n",
    "Country ISO Code - ISO code for the country;<br><br>\n",
    "Date- date for the data entry; for some of the dates we have only the daily vaccinations, for others, only the (cumulative) total;<br><br>\n",
    "Total number of vaccin ations - this is the absolute number of total immunizations in the country;<br>\n",
    "Total number of people vaccinated - a person, depending on the immunization scheme, will receive one or more<br> (typically 2) vaccines; at a certain moment, the number of vaccination might be larger than the number of people;<br><br>\n",
    "Total number of people fully vaccinated - this is the number of people that received the entire set of immunization according to the immunization scheme (typically 2); at a certain moment in time, there might be a certain number of people that received one vaccine and another number (smaller) of people that received all vaccines in the scheme;<br><br>\n",
    "Daily vaccinations (raw) - for a certain data entry, the number of vaccination for that date/country;\n",
    "Daily vaccinations - for a certain data entry, the number of vaccination for that date/country;\n",
    "Total vaccinations per hundred - ratio (in percent) between vaccination number and total population up to the date in the country;<br><br>\n",
    "Total number of people vaccinated per hundred - ratio (in percent) between population immunized and total population up to the date in the country;<br><br>\n",
    "Total number of people fully vaccinated per hundred - ratio (in percent) between population fully immunized and total population up to the date in the country;<br><br>\n",
    "Number of vaccinations per day - number of daily vaccination for that day and country;<br><br>\n",
    "Daily vaccinations per million - ratio (in ppm) between vaccination number and total population for the current date in the country;<br><br>\n",
    "Vaccines used in the country - total number of vaccines used in the country (up to date);<br><br>\n",
    "Source name - source of the information (national authority, international organization, local organization etc.);<br><br>\n",
    "Source website - website of the source of information;\n",
    "\n",
    "\n"
   ]
  },
  {
   "cell_type": "code",
   "execution_count": 2,
   "metadata": {},
   "outputs": [
    {
     "data": {
      "text/html": [
       "        <script type=\"text/javascript\">\n",
       "        window.PlotlyConfig = {MathJaxConfig: 'local'};\n",
       "        if (window.MathJax) {MathJax.Hub.Config({SVG: {font: \"STIX-Web\"}});}\n",
       "        if (typeof require !== 'undefined') {\n",
       "        require.undef(\"plotly\");\n",
       "        requirejs.config({\n",
       "            paths: {\n",
       "                'plotly': ['https://cdn.plot.ly/plotly-latest.min']\n",
       "            }\n",
       "        });\n",
       "        require(['plotly'], function(Plotly) {\n",
       "            window._Plotly = Plotly;\n",
       "        });\n",
       "        }\n",
       "        </script>\n",
       "        "
      ]
     },
     "metadata": {},
     "output_type": "display_data"
    }
   ],
   "source": [
    "import chart_studio.plotly as py \n",
    "from plotly.offline import download_plotlyjs,init_notebook_mode,plot,iplot\n",
    "init_notebook_mode(connected=True)\n",
    "import pandas as pd\n",
    "import seaborn as sns\n",
    "%matplotlib inline\n",
    "import matplotlib.pyplot as plt\n",
    "import plotly.graph_objs as go\n",
    "import plotly.express as px"
   ]
  },
  {
   "cell_type": "code",
   "execution_count": 3,
   "metadata": {},
   "outputs": [],
   "source": [
    "df=pd.read_csv(\"country_vaccinations.csv\")"
   ]
  },
  {
   "cell_type": "code",
   "execution_count": 4,
   "metadata": {},
   "outputs": [
    {
     "data": {
      "text/html": [
       "<div>\n",
       "<style scoped>\n",
       "    .dataframe tbody tr th:only-of-type {\n",
       "        vertical-align: middle;\n",
       "    }\n",
       "\n",
       "    .dataframe tbody tr th {\n",
       "        vertical-align: top;\n",
       "    }\n",
       "\n",
       "    .dataframe thead th {\n",
       "        text-align: right;\n",
       "    }\n",
       "</style>\n",
       "<table border=\"1\" class=\"dataframe\">\n",
       "  <thead>\n",
       "    <tr style=\"text-align: right;\">\n",
       "      <th></th>\n",
       "      <th>country</th>\n",
       "      <th>iso_code</th>\n",
       "      <th>date</th>\n",
       "      <th>total_vaccinations</th>\n",
       "      <th>people_vaccinated</th>\n",
       "      <th>people_fully_vaccinated</th>\n",
       "      <th>daily_vaccinations_raw</th>\n",
       "      <th>daily_vaccinations</th>\n",
       "      <th>total_vaccinations_per_hundred</th>\n",
       "      <th>people_vaccinated_per_hundred</th>\n",
       "      <th>people_fully_vaccinated_per_hundred</th>\n",
       "      <th>daily_vaccinations_per_million</th>\n",
       "      <th>vaccines</th>\n",
       "      <th>source_name</th>\n",
       "      <th>source_website</th>\n",
       "    </tr>\n",
       "  </thead>\n",
       "  <tbody>\n",
       "    <tr>\n",
       "      <td>0</td>\n",
       "      <td>Afghanistan</td>\n",
       "      <td>AFG</td>\n",
       "      <td>2021-02-22</td>\n",
       "      <td>0.0</td>\n",
       "      <td>0.0</td>\n",
       "      <td>NaN</td>\n",
       "      <td>NaN</td>\n",
       "      <td>NaN</td>\n",
       "      <td>0.00</td>\n",
       "      <td>0.00</td>\n",
       "      <td>NaN</td>\n",
       "      <td>NaN</td>\n",
       "      <td>Oxford/AstraZeneca</td>\n",
       "      <td>Government of Afghanistan</td>\n",
       "      <td>http://www.xinhuanet.com/english/asiapacific/2...</td>\n",
       "    </tr>\n",
       "    <tr>\n",
       "      <td>1</td>\n",
       "      <td>Afghanistan</td>\n",
       "      <td>AFG</td>\n",
       "      <td>2021-02-23</td>\n",
       "      <td>NaN</td>\n",
       "      <td>NaN</td>\n",
       "      <td>NaN</td>\n",
       "      <td>NaN</td>\n",
       "      <td>1367.0</td>\n",
       "      <td>NaN</td>\n",
       "      <td>NaN</td>\n",
       "      <td>NaN</td>\n",
       "      <td>35.0</td>\n",
       "      <td>Oxford/AstraZeneca</td>\n",
       "      <td>Government of Afghanistan</td>\n",
       "      <td>http://www.xinhuanet.com/english/asiapacific/2...</td>\n",
       "    </tr>\n",
       "    <tr>\n",
       "      <td>2</td>\n",
       "      <td>Afghanistan</td>\n",
       "      <td>AFG</td>\n",
       "      <td>2021-02-24</td>\n",
       "      <td>NaN</td>\n",
       "      <td>NaN</td>\n",
       "      <td>NaN</td>\n",
       "      <td>NaN</td>\n",
       "      <td>1367.0</td>\n",
       "      <td>NaN</td>\n",
       "      <td>NaN</td>\n",
       "      <td>NaN</td>\n",
       "      <td>35.0</td>\n",
       "      <td>Oxford/AstraZeneca</td>\n",
       "      <td>Government of Afghanistan</td>\n",
       "      <td>http://www.xinhuanet.com/english/asiapacific/2...</td>\n",
       "    </tr>\n",
       "    <tr>\n",
       "      <td>3</td>\n",
       "      <td>Afghanistan</td>\n",
       "      <td>AFG</td>\n",
       "      <td>2021-02-25</td>\n",
       "      <td>NaN</td>\n",
       "      <td>NaN</td>\n",
       "      <td>NaN</td>\n",
       "      <td>NaN</td>\n",
       "      <td>1367.0</td>\n",
       "      <td>NaN</td>\n",
       "      <td>NaN</td>\n",
       "      <td>NaN</td>\n",
       "      <td>35.0</td>\n",
       "      <td>Oxford/AstraZeneca</td>\n",
       "      <td>Government of Afghanistan</td>\n",
       "      <td>http://www.xinhuanet.com/english/asiapacific/2...</td>\n",
       "    </tr>\n",
       "    <tr>\n",
       "      <td>4</td>\n",
       "      <td>Afghanistan</td>\n",
       "      <td>AFG</td>\n",
       "      <td>2021-02-26</td>\n",
       "      <td>NaN</td>\n",
       "      <td>NaN</td>\n",
       "      <td>NaN</td>\n",
       "      <td>NaN</td>\n",
       "      <td>1367.0</td>\n",
       "      <td>NaN</td>\n",
       "      <td>NaN</td>\n",
       "      <td>NaN</td>\n",
       "      <td>35.0</td>\n",
       "      <td>Oxford/AstraZeneca</td>\n",
       "      <td>Government of Afghanistan</td>\n",
       "      <td>http://www.xinhuanet.com/english/asiapacific/2...</td>\n",
       "    </tr>\n",
       "    <tr>\n",
       "      <td>...</td>\n",
       "      <td>...</td>\n",
       "      <td>...</td>\n",
       "      <td>...</td>\n",
       "      <td>...</td>\n",
       "      <td>...</td>\n",
       "      <td>...</td>\n",
       "      <td>...</td>\n",
       "      <td>...</td>\n",
       "      <td>...</td>\n",
       "      <td>...</td>\n",
       "      <td>...</td>\n",
       "      <td>...</td>\n",
       "      <td>...</td>\n",
       "      <td>...</td>\n",
       "      <td>...</td>\n",
       "    </tr>\n",
       "    <tr>\n",
       "      <td>8446</td>\n",
       "      <td>Zimbabwe</td>\n",
       "      <td>ZWE</td>\n",
       "      <td>2021-03-23</td>\n",
       "      <td>44135.0</td>\n",
       "      <td>44135.0</td>\n",
       "      <td>NaN</td>\n",
       "      <td>841.0</td>\n",
       "      <td>655.0</td>\n",
       "      <td>0.30</td>\n",
       "      <td>0.30</td>\n",
       "      <td>NaN</td>\n",
       "      <td>44.0</td>\n",
       "      <td>Sinopharm/Beijing</td>\n",
       "      <td>Ministry of Health</td>\n",
       "      <td>https://twitter.com/MoHCCZim/status/1375899540...</td>\n",
       "    </tr>\n",
       "    <tr>\n",
       "      <td>8447</td>\n",
       "      <td>Zimbabwe</td>\n",
       "      <td>ZWE</td>\n",
       "      <td>2021-03-24</td>\n",
       "      <td>49404.0</td>\n",
       "      <td>49404.0</td>\n",
       "      <td>NaN</td>\n",
       "      <td>5269.0</td>\n",
       "      <td>1400.0</td>\n",
       "      <td>0.33</td>\n",
       "      <td>0.33</td>\n",
       "      <td>NaN</td>\n",
       "      <td>94.0</td>\n",
       "      <td>Sinopharm/Beijing</td>\n",
       "      <td>Ministry of Health</td>\n",
       "      <td>https://twitter.com/MoHCCZim/status/1375899540...</td>\n",
       "    </tr>\n",
       "    <tr>\n",
       "      <td>8448</td>\n",
       "      <td>Zimbabwe</td>\n",
       "      <td>ZWE</td>\n",
       "      <td>2021-03-25</td>\n",
       "      <td>54892.0</td>\n",
       "      <td>54892.0</td>\n",
       "      <td>NaN</td>\n",
       "      <td>5488.0</td>\n",
       "      <td>2127.0</td>\n",
       "      <td>0.37</td>\n",
       "      <td>0.37</td>\n",
       "      <td>NaN</td>\n",
       "      <td>143.0</td>\n",
       "      <td>Sinopharm/Beijing</td>\n",
       "      <td>Ministry of Health</td>\n",
       "      <td>https://twitter.com/MoHCCZim/status/1375899540...</td>\n",
       "    </tr>\n",
       "    <tr>\n",
       "      <td>8449</td>\n",
       "      <td>Zimbabwe</td>\n",
       "      <td>ZWE</td>\n",
       "      <td>2021-03-26</td>\n",
       "      <td>61093.0</td>\n",
       "      <td>61093.0</td>\n",
       "      <td>NaN</td>\n",
       "      <td>6201.0</td>\n",
       "      <td>2772.0</td>\n",
       "      <td>0.41</td>\n",
       "      <td>0.41</td>\n",
       "      <td>NaN</td>\n",
       "      <td>187.0</td>\n",
       "      <td>Sinopharm/Beijing</td>\n",
       "      <td>Ministry of Health</td>\n",
       "      <td>https://twitter.com/MoHCCZim/status/1375899540...</td>\n",
       "    </tr>\n",
       "    <tr>\n",
       "      <td>8450</td>\n",
       "      <td>Zimbabwe</td>\n",
       "      <td>ZWE</td>\n",
       "      <td>2021-03-27</td>\n",
       "      <td>65466.0</td>\n",
       "      <td>65466.0</td>\n",
       "      <td>NaN</td>\n",
       "      <td>4373.0</td>\n",
       "      <td>3322.0</td>\n",
       "      <td>0.44</td>\n",
       "      <td>0.44</td>\n",
       "      <td>NaN</td>\n",
       "      <td>224.0</td>\n",
       "      <td>Sinopharm/Beijing</td>\n",
       "      <td>Ministry of Health</td>\n",
       "      <td>https://twitter.com/MoHCCZim/status/1375899540...</td>\n",
       "    </tr>\n",
       "  </tbody>\n",
       "</table>\n",
       "<p>8451 rows × 15 columns</p>\n",
       "</div>"
      ],
      "text/plain": [
       "          country iso_code        date  total_vaccinations  people_vaccinated  \\\n",
       "0     Afghanistan      AFG  2021-02-22                 0.0                0.0   \n",
       "1     Afghanistan      AFG  2021-02-23                 NaN                NaN   \n",
       "2     Afghanistan      AFG  2021-02-24                 NaN                NaN   \n",
       "3     Afghanistan      AFG  2021-02-25                 NaN                NaN   \n",
       "4     Afghanistan      AFG  2021-02-26                 NaN                NaN   \n",
       "...           ...      ...         ...                 ...                ...   \n",
       "8446     Zimbabwe      ZWE  2021-03-23             44135.0            44135.0   \n",
       "8447     Zimbabwe      ZWE  2021-03-24             49404.0            49404.0   \n",
       "8448     Zimbabwe      ZWE  2021-03-25             54892.0            54892.0   \n",
       "8449     Zimbabwe      ZWE  2021-03-26             61093.0            61093.0   \n",
       "8450     Zimbabwe      ZWE  2021-03-27             65466.0            65466.0   \n",
       "\n",
       "      people_fully_vaccinated  daily_vaccinations_raw  daily_vaccinations  \\\n",
       "0                         NaN                     NaN                 NaN   \n",
       "1                         NaN                     NaN              1367.0   \n",
       "2                         NaN                     NaN              1367.0   \n",
       "3                         NaN                     NaN              1367.0   \n",
       "4                         NaN                     NaN              1367.0   \n",
       "...                       ...                     ...                 ...   \n",
       "8446                      NaN                   841.0               655.0   \n",
       "8447                      NaN                  5269.0              1400.0   \n",
       "8448                      NaN                  5488.0              2127.0   \n",
       "8449                      NaN                  6201.0              2772.0   \n",
       "8450                      NaN                  4373.0              3322.0   \n",
       "\n",
       "      total_vaccinations_per_hundred  people_vaccinated_per_hundred  \\\n",
       "0                               0.00                           0.00   \n",
       "1                                NaN                            NaN   \n",
       "2                                NaN                            NaN   \n",
       "3                                NaN                            NaN   \n",
       "4                                NaN                            NaN   \n",
       "...                              ...                            ...   \n",
       "8446                            0.30                           0.30   \n",
       "8447                            0.33                           0.33   \n",
       "8448                            0.37                           0.37   \n",
       "8449                            0.41                           0.41   \n",
       "8450                            0.44                           0.44   \n",
       "\n",
       "      people_fully_vaccinated_per_hundred  daily_vaccinations_per_million  \\\n",
       "0                                     NaN                             NaN   \n",
       "1                                     NaN                            35.0   \n",
       "2                                     NaN                            35.0   \n",
       "3                                     NaN                            35.0   \n",
       "4                                     NaN                            35.0   \n",
       "...                                   ...                             ...   \n",
       "8446                                  NaN                            44.0   \n",
       "8447                                  NaN                            94.0   \n",
       "8448                                  NaN                           143.0   \n",
       "8449                                  NaN                           187.0   \n",
       "8450                                  NaN                           224.0   \n",
       "\n",
       "                vaccines                source_name  \\\n",
       "0     Oxford/AstraZeneca  Government of Afghanistan   \n",
       "1     Oxford/AstraZeneca  Government of Afghanistan   \n",
       "2     Oxford/AstraZeneca  Government of Afghanistan   \n",
       "3     Oxford/AstraZeneca  Government of Afghanistan   \n",
       "4     Oxford/AstraZeneca  Government of Afghanistan   \n",
       "...                  ...                        ...   \n",
       "8446   Sinopharm/Beijing         Ministry of Health   \n",
       "8447   Sinopharm/Beijing         Ministry of Health   \n",
       "8448   Sinopharm/Beijing         Ministry of Health   \n",
       "8449   Sinopharm/Beijing         Ministry of Health   \n",
       "8450   Sinopharm/Beijing         Ministry of Health   \n",
       "\n",
       "                                         source_website  \n",
       "0     http://www.xinhuanet.com/english/asiapacific/2...  \n",
       "1     http://www.xinhuanet.com/english/asiapacific/2...  \n",
       "2     http://www.xinhuanet.com/english/asiapacific/2...  \n",
       "3     http://www.xinhuanet.com/english/asiapacific/2...  \n",
       "4     http://www.xinhuanet.com/english/asiapacific/2...  \n",
       "...                                                 ...  \n",
       "8446  https://twitter.com/MoHCCZim/status/1375899540...  \n",
       "8447  https://twitter.com/MoHCCZim/status/1375899540...  \n",
       "8448  https://twitter.com/MoHCCZim/status/1375899540...  \n",
       "8449  https://twitter.com/MoHCCZim/status/1375899540...  \n",
       "8450  https://twitter.com/MoHCCZim/status/1375899540...  \n",
       "\n",
       "[8451 rows x 15 columns]"
      ]
     },
     "execution_count": 4,
     "metadata": {},
     "output_type": "execute_result"
    }
   ],
   "source": [
    "df"
   ]
  },
  {
   "cell_type": "code",
   "execution_count": 5,
   "metadata": {},
   "outputs": [
    {
     "name": "stdout",
     "output_type": "stream",
     "text": [
      "<class 'pandas.core.frame.DataFrame'>\n",
      "RangeIndex: 8451 entries, 0 to 8450\n",
      "Data columns (total 15 columns):\n",
      "country                                8451 non-null object\n",
      "iso_code                               8451 non-null object\n",
      "date                                   8451 non-null object\n",
      "total_vaccinations                     5231 non-null float64\n",
      "people_vaccinated                      4688 non-null float64\n",
      "people_fully_vaccinated                3186 non-null float64\n",
      "daily_vaccinations_raw                 4415 non-null float64\n",
      "daily_vaccinations                     8260 non-null float64\n",
      "total_vaccinations_per_hundred         5231 non-null float64\n",
      "people_vaccinated_per_hundred          4688 non-null float64\n",
      "people_fully_vaccinated_per_hundred    3186 non-null float64\n",
      "daily_vaccinations_per_million         8260 non-null float64\n",
      "vaccines                               8451 non-null object\n",
      "source_name                            8451 non-null object\n",
      "source_website                         8451 non-null object\n",
      "dtypes: float64(9), object(6)\n",
      "memory usage: 990.5+ KB\n"
     ]
    }
   ],
   "source": [
    "df.info()"
   ]
  },
  {
   "cell_type": "code",
   "execution_count": 6,
   "metadata": {},
   "outputs": [
    {
     "data": {
      "text/html": [
       "<div>\n",
       "<style scoped>\n",
       "    .dataframe tbody tr th:only-of-type {\n",
       "        vertical-align: middle;\n",
       "    }\n",
       "\n",
       "    .dataframe tbody tr th {\n",
       "        vertical-align: top;\n",
       "    }\n",
       "\n",
       "    .dataframe thead th {\n",
       "        text-align: right;\n",
       "    }\n",
       "</style>\n",
       "<table border=\"1\" class=\"dataframe\">\n",
       "  <thead>\n",
       "    <tr style=\"text-align: right;\">\n",
       "      <th></th>\n",
       "      <th>total_vaccinations</th>\n",
       "      <th>people_vaccinated</th>\n",
       "      <th>people_fully_vaccinated</th>\n",
       "      <th>daily_vaccinations_raw</th>\n",
       "      <th>daily_vaccinations</th>\n",
       "      <th>total_vaccinations_per_hundred</th>\n",
       "      <th>people_vaccinated_per_hundred</th>\n",
       "      <th>people_fully_vaccinated_per_hundred</th>\n",
       "      <th>daily_vaccinations_per_million</th>\n",
       "    </tr>\n",
       "  </thead>\n",
       "  <tbody>\n",
       "    <tr>\n",
       "      <td>count</td>\n",
       "      <td>5.231000e+03</td>\n",
       "      <td>4.688000e+03</td>\n",
       "      <td>3.186000e+03</td>\n",
       "      <td>4.415000e+03</td>\n",
       "      <td>8.260000e+03</td>\n",
       "      <td>5231.000000</td>\n",
       "      <td>4688.000000</td>\n",
       "      <td>3186.000000</td>\n",
       "      <td>8260.000000</td>\n",
       "    </tr>\n",
       "    <tr>\n",
       "      <td>mean</td>\n",
       "      <td>2.792692e+06</td>\n",
       "      <td>2.156748e+06</td>\n",
       "      <td>9.503461e+05</td>\n",
       "      <td>9.931035e+04</td>\n",
       "      <td>6.346118e+04</td>\n",
       "      <td>10.456412</td>\n",
       "      <td>7.859851</td>\n",
       "      <td>3.829357</td>\n",
       "      <td>2722.191889</td>\n",
       "    </tr>\n",
       "    <tr>\n",
       "      <td>std</td>\n",
       "      <td>1.019114e+07</td>\n",
       "      <td>7.169884e+06</td>\n",
       "      <td>3.817421e+06</td>\n",
       "      <td>3.359847e+05</td>\n",
       "      <td>2.302936e+05</td>\n",
       "      <td>18.453447</td>\n",
       "      <td>12.320235</td>\n",
       "      <td>8.163778</td>\n",
       "      <td>4129.512041</td>\n",
       "    </tr>\n",
       "    <tr>\n",
       "      <td>min</td>\n",
       "      <td>0.000000e+00</td>\n",
       "      <td>0.000000e+00</td>\n",
       "      <td>1.000000e+00</td>\n",
       "      <td>0.000000e+00</td>\n",
       "      <td>1.000000e+00</td>\n",
       "      <td>0.000000</td>\n",
       "      <td>0.000000</td>\n",
       "      <td>0.000000</td>\n",
       "      <td>0.000000</td>\n",
       "    </tr>\n",
       "    <tr>\n",
       "      <td>25%</td>\n",
       "      <td>4.238850e+04</td>\n",
       "      <td>3.910150e+04</td>\n",
       "      <td>2.013700e+04</td>\n",
       "      <td>2.825500e+03</td>\n",
       "      <td>1.073000e+03</td>\n",
       "      <td>0.820000</td>\n",
       "      <td>0.830000</td>\n",
       "      <td>0.440000</td>\n",
       "      <td>368.750000</td>\n",
       "    </tr>\n",
       "    <tr>\n",
       "      <td>50%</td>\n",
       "      <td>2.892100e+05</td>\n",
       "      <td>2.588110e+05</td>\n",
       "      <td>1.213515e+05</td>\n",
       "      <td>1.415200e+04</td>\n",
       "      <td>6.158500e+03</td>\n",
       "      <td>3.950000</td>\n",
       "      <td>3.295000</td>\n",
       "      <td>1.550000</td>\n",
       "      <td>1356.000000</td>\n",
       "    </tr>\n",
       "    <tr>\n",
       "      <td>75%</td>\n",
       "      <td>1.367629e+06</td>\n",
       "      <td>1.034796e+06</td>\n",
       "      <td>5.039328e+05</td>\n",
       "      <td>5.753850e+04</td>\n",
       "      <td>2.799000e+04</td>\n",
       "      <td>11.710000</td>\n",
       "      <td>8.920000</td>\n",
       "      <td>3.430000</td>\n",
       "      <td>3347.750000</td>\n",
       "    </tr>\n",
       "    <tr>\n",
       "      <td>max</td>\n",
       "      <td>1.401807e+08</td>\n",
       "      <td>9.170773e+07</td>\n",
       "      <td>5.014177e+07</td>\n",
       "      <td>6.124000e+06</td>\n",
       "      <td>3.923000e+06</td>\n",
       "      <td>171.100000</td>\n",
       "      <td>91.850000</td>\n",
       "      <td>79.260000</td>\n",
       "      <td>54264.000000</td>\n",
       "    </tr>\n",
       "  </tbody>\n",
       "</table>\n",
       "</div>"
      ],
      "text/plain": [
       "       total_vaccinations  people_vaccinated  people_fully_vaccinated  \\\n",
       "count        5.231000e+03       4.688000e+03             3.186000e+03   \n",
       "mean         2.792692e+06       2.156748e+06             9.503461e+05   \n",
       "std          1.019114e+07       7.169884e+06             3.817421e+06   \n",
       "min          0.000000e+00       0.000000e+00             1.000000e+00   \n",
       "25%          4.238850e+04       3.910150e+04             2.013700e+04   \n",
       "50%          2.892100e+05       2.588110e+05             1.213515e+05   \n",
       "75%          1.367629e+06       1.034796e+06             5.039328e+05   \n",
       "max          1.401807e+08       9.170773e+07             5.014177e+07   \n",
       "\n",
       "       daily_vaccinations_raw  daily_vaccinations  \\\n",
       "count            4.415000e+03        8.260000e+03   \n",
       "mean             9.931035e+04        6.346118e+04   \n",
       "std              3.359847e+05        2.302936e+05   \n",
       "min              0.000000e+00        1.000000e+00   \n",
       "25%              2.825500e+03        1.073000e+03   \n",
       "50%              1.415200e+04        6.158500e+03   \n",
       "75%              5.753850e+04        2.799000e+04   \n",
       "max              6.124000e+06        3.923000e+06   \n",
       "\n",
       "       total_vaccinations_per_hundred  people_vaccinated_per_hundred  \\\n",
       "count                     5231.000000                    4688.000000   \n",
       "mean                        10.456412                       7.859851   \n",
       "std                         18.453447                      12.320235   \n",
       "min                          0.000000                       0.000000   \n",
       "25%                          0.820000                       0.830000   \n",
       "50%                          3.950000                       3.295000   \n",
       "75%                         11.710000                       8.920000   \n",
       "max                        171.100000                      91.850000   \n",
       "\n",
       "       people_fully_vaccinated_per_hundred  daily_vaccinations_per_million  \n",
       "count                          3186.000000                     8260.000000  \n",
       "mean                              3.829357                     2722.191889  \n",
       "std                               8.163778                     4129.512041  \n",
       "min                               0.000000                        0.000000  \n",
       "25%                               0.440000                      368.750000  \n",
       "50%                               1.550000                     1356.000000  \n",
       "75%                               3.430000                     3347.750000  \n",
       "max                              79.260000                    54264.000000  "
      ]
     },
     "execution_count": 6,
     "metadata": {},
     "output_type": "execute_result"
    }
   ],
   "source": [
    "df.describe()"
   ]
  },
  {
   "cell_type": "markdown",
   "metadata": {},
   "source": [
    "## EDA"
   ]
  },
  {
   "cell_type": "markdown",
   "metadata": {},
   "source": [
    "Because the datasets is created date by date, we group them by Country\n",
    "<br><br><br>"
   ]
  },
  {
   "cell_type": "code",
   "execution_count": 7,
   "metadata": {},
   "outputs": [],
   "source": [
    "country_vac = df.groupby([\"country\", \"iso_code\", \"vaccines\"])['total_vaccinations', \n",
    "                                                                       'total_vaccinations_per_hundred',\n",
    "                                                                      'daily_vaccinations',\n",
    "                                                                      'daily_vaccinations_per_million',\n",
    "                                                                      'people_vaccinated',\n",
    "                                                                      'people_vaccinated_per_hundred',\n",
    "                                                                       'people_fully_vaccinated', 'people_fully_vaccinated_per_hundred'\n",
    "                                                                      ].max().reset_index()\n"
   ]
  },
  {
   "cell_type": "code",
   "execution_count": 18,
   "metadata": {},
   "outputs": [
    {
     "data": {
      "text/html": [
       "<div>\n",
       "<style scoped>\n",
       "    .dataframe tbody tr th:only-of-type {\n",
       "        vertical-align: middle;\n",
       "    }\n",
       "\n",
       "    .dataframe tbody tr th {\n",
       "        vertical-align: top;\n",
       "    }\n",
       "\n",
       "    .dataframe thead th {\n",
       "        text-align: right;\n",
       "    }\n",
       "</style>\n",
       "<table border=\"1\" class=\"dataframe\">\n",
       "  <thead>\n",
       "    <tr style=\"text-align: right;\">\n",
       "      <th></th>\n",
       "      <th>country</th>\n",
       "      <th>iso_code</th>\n",
       "      <th>vaccines</th>\n",
       "      <th>total_vaccinations</th>\n",
       "      <th>total_vaccinations_per_hundred</th>\n",
       "      <th>daily_vaccinations</th>\n",
       "      <th>daily_vaccinations_per_million</th>\n",
       "      <th>people_vaccinated</th>\n",
       "      <th>people_vaccinated_per_hundred</th>\n",
       "      <th>people_fully_vaccinated</th>\n",
       "      <th>people_fully_vaccinated_per_hundred</th>\n",
       "    </tr>\n",
       "  </thead>\n",
       "  <tbody>\n",
       "    <tr>\n",
       "      <td>0</td>\n",
       "      <td>Afghanistan</td>\n",
       "      <td>AFG</td>\n",
       "      <td>Oxford/AstraZeneca</td>\n",
       "      <td>54000.0</td>\n",
       "      <td>0.14</td>\n",
       "      <td>2862.0</td>\n",
       "      <td>74.0</td>\n",
       "      <td>54000.0</td>\n",
       "      <td>0.14</td>\n",
       "      <td>NaN</td>\n",
       "      <td>NaN</td>\n",
       "    </tr>\n",
       "    <tr>\n",
       "      <td>1</td>\n",
       "      <td>Albania</td>\n",
       "      <td>ALB</td>\n",
       "      <td>Pfizer/BioNTech</td>\n",
       "      <td>64075.0</td>\n",
       "      <td>2.23</td>\n",
       "      <td>3287.0</td>\n",
       "      <td>1142.0</td>\n",
       "      <td>6073.0</td>\n",
       "      <td>0.21</td>\n",
       "      <td>655.0</td>\n",
       "      <td>0.02</td>\n",
       "    </tr>\n",
       "    <tr>\n",
       "      <td>2</td>\n",
       "      <td>Algeria</td>\n",
       "      <td>DZA</td>\n",
       "      <td>Sputnik V</td>\n",
       "      <td>75000.0</td>\n",
       "      <td>0.17</td>\n",
       "      <td>3748.0</td>\n",
       "      <td>85.0</td>\n",
       "      <td>NaN</td>\n",
       "      <td>NaN</td>\n",
       "      <td>NaN</td>\n",
       "      <td>NaN</td>\n",
       "    </tr>\n",
       "    <tr>\n",
       "      <td>3</td>\n",
       "      <td>Andorra</td>\n",
       "      <td>AND</td>\n",
       "      <td>Pfizer/BioNTech</td>\n",
       "      <td>9288.0</td>\n",
       "      <td>12.02</td>\n",
       "      <td>679.0</td>\n",
       "      <td>8788.0</td>\n",
       "      <td>7098.0</td>\n",
       "      <td>9.19</td>\n",
       "      <td>1265.0</td>\n",
       "      <td>1.64</td>\n",
       "    </tr>\n",
       "    <tr>\n",
       "      <td>4</td>\n",
       "      <td>Angola</td>\n",
       "      <td>AGO</td>\n",
       "      <td>Oxford/AstraZeneca</td>\n",
       "      <td>87022.0</td>\n",
       "      <td>0.26</td>\n",
       "      <td>6044.0</td>\n",
       "      <td>184.0</td>\n",
       "      <td>87022.0</td>\n",
       "      <td>0.26</td>\n",
       "      <td>NaN</td>\n",
       "      <td>NaN</td>\n",
       "    </tr>\n",
       "    <tr>\n",
       "      <td>...</td>\n",
       "      <td>...</td>\n",
       "      <td>...</td>\n",
       "      <td>...</td>\n",
       "      <td>...</td>\n",
       "      <td>...</td>\n",
       "      <td>...</td>\n",
       "      <td>...</td>\n",
       "      <td>...</td>\n",
       "      <td>...</td>\n",
       "      <td>...</td>\n",
       "      <td>...</td>\n",
       "    </tr>\n",
       "    <tr>\n",
       "      <td>149</td>\n",
       "      <td>Uruguay</td>\n",
       "      <td>URY</td>\n",
       "      <td>Pfizer/BioNTech, Sinovac</td>\n",
       "      <td>509969.0</td>\n",
       "      <td>14.68</td>\n",
       "      <td>28148.0</td>\n",
       "      <td>8103.0</td>\n",
       "      <td>509672.0</td>\n",
       "      <td>14.67</td>\n",
       "      <td>297.0</td>\n",
       "      <td>0.01</td>\n",
       "    </tr>\n",
       "    <tr>\n",
       "      <td>150</td>\n",
       "      <td>Venezuela</td>\n",
       "      <td>VEN</td>\n",
       "      <td>Sputnik V</td>\n",
       "      <td>12194.0</td>\n",
       "      <td>0.04</td>\n",
       "      <td>1204.0</td>\n",
       "      <td>42.0</td>\n",
       "      <td>12194.0</td>\n",
       "      <td>0.04</td>\n",
       "      <td>NaN</td>\n",
       "      <td>NaN</td>\n",
       "    </tr>\n",
       "    <tr>\n",
       "      <td>151</td>\n",
       "      <td>Vietnam</td>\n",
       "      <td>VNM</td>\n",
       "      <td>Oxford/AstraZeneca</td>\n",
       "      <td>44000.0</td>\n",
       "      <td>0.05</td>\n",
       "      <td>3709.0</td>\n",
       "      <td>38.0</td>\n",
       "      <td>44000.0</td>\n",
       "      <td>0.05</td>\n",
       "      <td>NaN</td>\n",
       "      <td>NaN</td>\n",
       "    </tr>\n",
       "    <tr>\n",
       "      <td>152</td>\n",
       "      <td>Wales</td>\n",
       "      <td>OWID_WLS</td>\n",
       "      <td>Oxford/AstraZeneca, Pfizer/BioNTech</td>\n",
       "      <td>1766098.0</td>\n",
       "      <td>56.02</td>\n",
       "      <td>33151.0</td>\n",
       "      <td>10515.0</td>\n",
       "      <td>1365355.0</td>\n",
       "      <td>43.31</td>\n",
       "      <td>400743.0</td>\n",
       "      <td>12.71</td>\n",
       "    </tr>\n",
       "    <tr>\n",
       "      <td>153</td>\n",
       "      <td>Zimbabwe</td>\n",
       "      <td>ZWE</td>\n",
       "      <td>Sinopharm/Beijing</td>\n",
       "      <td>65466.0</td>\n",
       "      <td>0.44</td>\n",
       "      <td>3322.0</td>\n",
       "      <td>224.0</td>\n",
       "      <td>65466.0</td>\n",
       "      <td>0.44</td>\n",
       "      <td>NaN</td>\n",
       "      <td>NaN</td>\n",
       "    </tr>\n",
       "  </tbody>\n",
       "</table>\n",
       "<p>154 rows × 11 columns</p>\n",
       "</div>"
      ],
      "text/plain": [
       "         country  iso_code                             vaccines  \\\n",
       "0    Afghanistan       AFG                   Oxford/AstraZeneca   \n",
       "1        Albania       ALB                      Pfizer/BioNTech   \n",
       "2        Algeria       DZA                            Sputnik V   \n",
       "3        Andorra       AND                      Pfizer/BioNTech   \n",
       "4         Angola       AGO                   Oxford/AstraZeneca   \n",
       "..           ...       ...                                  ...   \n",
       "149      Uruguay       URY             Pfizer/BioNTech, Sinovac   \n",
       "150    Venezuela       VEN                            Sputnik V   \n",
       "151      Vietnam       VNM                   Oxford/AstraZeneca   \n",
       "152        Wales  OWID_WLS  Oxford/AstraZeneca, Pfizer/BioNTech   \n",
       "153     Zimbabwe       ZWE                    Sinopharm/Beijing   \n",
       "\n",
       "     total_vaccinations  total_vaccinations_per_hundred  daily_vaccinations  \\\n",
       "0               54000.0                            0.14              2862.0   \n",
       "1               64075.0                            2.23              3287.0   \n",
       "2               75000.0                            0.17              3748.0   \n",
       "3                9288.0                           12.02               679.0   \n",
       "4               87022.0                            0.26              6044.0   \n",
       "..                  ...                             ...                 ...   \n",
       "149            509969.0                           14.68             28148.0   \n",
       "150             12194.0                            0.04              1204.0   \n",
       "151             44000.0                            0.05              3709.0   \n",
       "152           1766098.0                           56.02             33151.0   \n",
       "153             65466.0                            0.44              3322.0   \n",
       "\n",
       "     daily_vaccinations_per_million  people_vaccinated  \\\n",
       "0                              74.0            54000.0   \n",
       "1                            1142.0             6073.0   \n",
       "2                              85.0                NaN   \n",
       "3                            8788.0             7098.0   \n",
       "4                             184.0            87022.0   \n",
       "..                              ...                ...   \n",
       "149                          8103.0           509672.0   \n",
       "150                            42.0            12194.0   \n",
       "151                            38.0            44000.0   \n",
       "152                         10515.0          1365355.0   \n",
       "153                           224.0            65466.0   \n",
       "\n",
       "     people_vaccinated_per_hundred  people_fully_vaccinated  \\\n",
       "0                             0.14                      NaN   \n",
       "1                             0.21                    655.0   \n",
       "2                              NaN                      NaN   \n",
       "3                             9.19                   1265.0   \n",
       "4                             0.26                      NaN   \n",
       "..                             ...                      ...   \n",
       "149                          14.67                    297.0   \n",
       "150                           0.04                      NaN   \n",
       "151                           0.05                      NaN   \n",
       "152                          43.31                 400743.0   \n",
       "153                           0.44                      NaN   \n",
       "\n",
       "     people_fully_vaccinated_per_hundred  \n",
       "0                                    NaN  \n",
       "1                                   0.02  \n",
       "2                                    NaN  \n",
       "3                                   1.64  \n",
       "4                                    NaN  \n",
       "..                                   ...  \n",
       "149                                 0.01  \n",
       "150                                  NaN  \n",
       "151                                  NaN  \n",
       "152                                12.71  \n",
       "153                                  NaN  \n",
       "\n",
       "[154 rows x 11 columns]"
      ]
     },
     "execution_count": 18,
     "metadata": {},
     "output_type": "execute_result"
    }
   ],
   "source": [
    "country_vac"
   ]
  },
  {
   "cell_type": "code",
   "execution_count": 20,
   "metadata": {},
   "outputs": [],
   "source": [
    "vaccines=country_vac[\"vaccines\"].unique()"
   ]
  },
  {
   "cell_type": "code",
   "execution_count": 25,
   "metadata": {},
   "outputs": [
    {
     "name": "stdout",
     "output_type": "stream",
     "text": [
      "Vaccine: Oxford/AstraZeneca: \n",
      "Countries: ['Afghanistan', 'Angola', 'Anguilla', 'Antigua and Barbuda', 'Bahamas', 'Bangladesh', 'Barbados', 'Belize', \"Cote d'Ivoire\", 'Dominica', 'El Salvador', 'Falkland Islands', 'Ghana', 'Grenada', 'Guyana', 'Jamaica', 'Kenya', 'Malawi', 'Maldives', 'Mauritius', 'Moldova', 'Mongolia', 'Montserrat', 'Myanmar', 'Nepal', 'Nigeria', 'Saint Helena', 'Saint Kitts and Nevis', 'Saint Lucia', 'Saint Vincent and the Grenadines', 'Sierra Leone', 'Sri Lanka', 'Suriname', 'Taiwan', 'Togo', 'Trinidad and Tobago', 'Uganda', 'Ukraine', 'Vietnam']\n",
      "\n",
      "Vaccine: Pfizer/BioNTech: \n",
      "Countries: ['Albania', 'Andorra', 'Bermuda', 'Cayman Islands', 'Costa Rica', 'Croatia', 'Cyprus', 'Ecuador', 'Gibraltar', 'Greenland', 'Guernsey', 'Japan', 'Kuwait', 'Lebanon', 'Monaco', 'New Zealand', 'North Macedonia', 'Panama', 'Qatar', 'Slovakia', 'Turks and Caicos Islands']\n",
      "\n",
      "Vaccine: Sputnik V: \n",
      "Countries: ['Algeria', 'Belarus', 'Bolivia', 'Guinea', 'Iran', 'Kazakhstan', 'Paraguay', 'San Marino', 'Venezuela']\n",
      "\n",
      "Vaccine: Oxford/AstraZeneca, Sinopharm/Beijing, Sputnik V: \n",
      "Countries: ['Argentina', 'Pakistan']\n",
      "\n",
      "Vaccine: Oxford/AstraZeneca, Pfizer/BioNTech: \n",
      "Countries: ['Australia', 'England', 'Isle of Man', 'Jersey', 'Northern Ireland', 'Oman', 'Saudi Arabia', 'Scotland', 'Slovenia', 'South Korea', 'Sweden', 'United Kingdom', 'Wales']\n",
      "\n",
      "Vaccine: Moderna, Oxford/AstraZeneca, Pfizer/BioNTech: \n",
      "Countries: ['Austria', 'Belgium', 'Bulgaria', 'Canada', 'Czechia', 'Denmark', 'Estonia', 'Finland', 'France', 'Germany', 'Greece', 'Iceland', 'Ireland', 'Italy', 'Latvia', 'Lithuania', 'Luxembourg', 'Malta', 'Netherlands', 'Norway', 'Poland', 'Romania', 'Rwanda', 'Spain']\n",
      "\n",
      "Vaccine: Sinovac: \n",
      "Countries: ['Azerbaijan', 'Indonesia']\n",
      "\n",
      "Vaccine: Oxford/AstraZeneca, Pfizer/BioNTech, Sinopharm/Beijing, Sputnik V: \n",
      "Countries: ['Bahrain', 'Serbia']\n",
      "\n",
      "Vaccine: Oxford/AstraZeneca, Sinovac: \n",
      "Countries: ['Brazil', 'Dominican Republic', 'Philippines', 'Thailand']\n",
      "\n",
      "Vaccine: Sinopharm/Beijing: \n",
      "Countries: ['Cambodia', 'Egypt', 'Equatorial Guinea', 'Mozambique', 'Namibia', 'Peru', 'Senegal', 'Zimbabwe']\n",
      "\n",
      "Vaccine: Pfizer/BioNTech, Sinovac: \n",
      "Countries: ['Chile', 'Colombia', 'Hong Kong', 'Malaysia', 'Turkey', 'Uruguay']\n",
      "\n",
      "Vaccine: Sinopharm/Beijing, Sinopharm/Wuhan, Sinovac: \n",
      "Countries: ['China']\n",
      "\n",
      "Vaccine: Moderna, Pfizer/BioNTech: \n",
      "Countries: ['Faeroe Islands', 'Israel', 'Liechtenstein', 'Portugal', 'Singapore', 'Switzerland']\n",
      "\n",
      "Vaccine: Moderna: \n",
      "Countries: ['Guatemala']\n",
      "\n",
      "Vaccine: Moderna, Oxford/AstraZeneca: \n",
      "Countries: ['Honduras']\n",
      "\n",
      "Vaccine: Moderna, Oxford/AstraZeneca, Pfizer/BioNTech, Sinopharm/Beijing, Sputnik V: \n",
      "Countries: ['Hungary']\n",
      "\n",
      "Vaccine: Covaxin, Oxford/AstraZeneca: \n",
      "Countries: ['India']\n",
      "\n",
      "Vaccine: Pfizer/BioNTech, Sinopharm/Beijing: \n",
      "Countries: ['Jordan', 'Macao']\n",
      "\n",
      "Vaccine: Sinopharm/Beijing, Sputnik V: \n",
      "Countries: ['Laos', 'Montenegro']\n",
      "\n",
      "Vaccine: Oxford/AstraZeneca, Pfizer/BioNTech, Sputnik V: \n",
      "Countries: ['Mexico']\n",
      "\n",
      "Vaccine: Oxford/AstraZeneca, Sinopharm/Beijing: \n",
      "Countries: ['Morocco', 'Seychelles']\n",
      "\n",
      "Vaccine: Oxford/AstraZeneca, Pfizer/BioNTech, Sinovac: \n",
      "Countries: ['Northern Cyprus']\n",
      "\n",
      "Vaccine: EpiVacCorona, Sputnik V: \n",
      "Countries: ['Russia']\n",
      "\n",
      "Vaccine: Johnson&Johnson: \n",
      "Countries: ['South Africa']\n",
      "\n",
      "Vaccine: Pfizer/BioNTech, Sputnik V: \n",
      "Countries: ['Tunisia']\n",
      "\n",
      "Vaccine: Oxford/AstraZeneca, Pfizer/BioNTech, Sinopharm/Beijing, Sinopharm/Wuhan, Sputnik V: \n",
      "Countries: ['United Arab Emirates']\n",
      "\n",
      "Vaccine: Johnson&Johnson, Moderna, Pfizer/BioNTech: \n",
      "Countries: ['United States']\n",
      "\n"
     ]
    }
   ],
   "source": [
    "for v in vaccines:\n",
    "    countries = country_vac.loc[country_vac[\"vaccines\"]==v, 'country'].values\n",
    "    print(f\"Vaccine: {v}: \\nCountries: {list(countries)}\\n\")"
   ]
  },
  {
   "cell_type": "code",
   "execution_count": 14,
   "metadata": {},
   "outputs": [
    {
     "data": {
      "application/vnd.plotly.v1+json": {
       "config": {
        "plotlyServerURL": "https://plot.ly"
       },
       "data": [
        {
         "colorscale": [
          [
           0,
           "#636efa"
          ],
          [
           1,
           "#636efa"
          ]
         ],
         "geo": "geo",
         "hovertemplate": "color=Oxford/AstraZeneca<br>locations=%{location}<extra></extra>",
         "locationmode": "country names",
         "locations": [
          "Afghanistan",
          "Angola",
          "Anguilla",
          "Antigua and Barbuda",
          "Bahamas",
          "Bangladesh",
          "Barbados",
          "Belize",
          "Cote d'Ivoire",
          "Dominica",
          "El Salvador",
          "Falkland Islands",
          "Ghana",
          "Grenada",
          "Guyana",
          "Jamaica",
          "Kenya",
          "Malawi",
          "Maldives",
          "Mauritius",
          "Moldova",
          "Mongolia",
          "Montserrat",
          "Myanmar",
          "Nepal",
          "Nigeria",
          "Saint Helena",
          "Saint Kitts and Nevis",
          "Saint Lucia",
          "Saint Vincent and the Grenadines",
          "Sierra Leone",
          "Sri Lanka",
          "Suriname",
          "Taiwan",
          "Togo",
          "Trinidad and Tobago",
          "Uganda",
          "Ukraine",
          "Vietnam"
         ],
         "name": "Oxford/AstraZeneca",
         "showlegend": true,
         "showscale": false,
         "type": "choropleth",
         "z": [
          1,
          1,
          1,
          1,
          1,
          1,
          1,
          1,
          1,
          1,
          1,
          1,
          1,
          1,
          1,
          1,
          1,
          1,
          1,
          1,
          1,
          1,
          1,
          1,
          1,
          1,
          1,
          1,
          1,
          1,
          1,
          1,
          1,
          1,
          1,
          1,
          1,
          1,
          1
         ]
        },
        {
         "colorscale": [
          [
           0,
           "#EF553B"
          ],
          [
           1,
           "#EF553B"
          ]
         ],
         "geo": "geo",
         "hovertemplate": "color=Pfizer/BioNTech<br>locations=%{location}<extra></extra>",
         "locationmode": "country names",
         "locations": [
          "Albania",
          "Andorra",
          "Bermuda",
          "Cayman Islands",
          "Costa Rica",
          "Croatia",
          "Cyprus",
          "Ecuador",
          "Gibraltar",
          "Greenland",
          "Guernsey",
          "Japan",
          "Kuwait",
          "Lebanon",
          "Monaco",
          "New Zealand",
          "North Macedonia",
          "Panama",
          "Qatar",
          "Slovakia",
          "Turks and Caicos Islands"
         ],
         "name": "Pfizer/BioNTech",
         "showlegend": true,
         "showscale": false,
         "type": "choropleth",
         "z": [
          1,
          1,
          1,
          1,
          1,
          1,
          1,
          1,
          1,
          1,
          1,
          1,
          1,
          1,
          1,
          1,
          1,
          1,
          1,
          1,
          1
         ]
        },
        {
         "colorscale": [
          [
           0,
           "#00cc96"
          ],
          [
           1,
           "#00cc96"
          ]
         ],
         "geo": "geo",
         "hovertemplate": "color=Sputnik V<br>locations=%{location}<extra></extra>",
         "locationmode": "country names",
         "locations": [
          "Algeria",
          "Belarus",
          "Bolivia",
          "Guinea",
          "Iran",
          "Kazakhstan",
          "Paraguay",
          "San Marino",
          "Venezuela"
         ],
         "name": "Sputnik V",
         "showlegend": true,
         "showscale": false,
         "type": "choropleth",
         "z": [
          1,
          1,
          1,
          1,
          1,
          1,
          1,
          1,
          1
         ]
        },
        {
         "colorscale": [
          [
           0,
           "#ab63fa"
          ],
          [
           1,
           "#ab63fa"
          ]
         ],
         "geo": "geo",
         "hovertemplate": "color=Oxford/AstraZeneca, Sinopharm/Beijing, Sputnik V<br>locations=%{location}<extra></extra>",
         "locationmode": "country names",
         "locations": [
          "Argentina",
          "Pakistan"
         ],
         "name": "Oxford/AstraZeneca, Sinopharm/Beijing, Sputnik V",
         "showlegend": true,
         "showscale": false,
         "type": "choropleth",
         "z": [
          1,
          1
         ]
        },
        {
         "colorscale": [
          [
           0,
           "#FFA15A"
          ],
          [
           1,
           "#FFA15A"
          ]
         ],
         "geo": "geo",
         "hovertemplate": "color=Oxford/AstraZeneca, Pfizer/BioNTech<br>locations=%{location}<extra></extra>",
         "locationmode": "country names",
         "locations": [
          "Australia",
          "England",
          "Isle of Man",
          "Jersey",
          "Northern Ireland",
          "Oman",
          "Saudi Arabia",
          "Scotland",
          "Slovenia",
          "South Korea",
          "Sweden",
          "United Kingdom",
          "Wales"
         ],
         "name": "Oxford/AstraZeneca, Pfizer/BioNTech",
         "showlegend": true,
         "showscale": false,
         "type": "choropleth",
         "z": [
          1,
          1,
          1,
          1,
          1,
          1,
          1,
          1,
          1,
          1,
          1,
          1,
          1
         ]
        },
        {
         "colorscale": [
          [
           0,
           "#19d3f3"
          ],
          [
           1,
           "#19d3f3"
          ]
         ],
         "geo": "geo",
         "hovertemplate": "color=Moderna, Oxford/AstraZeneca, Pfizer/BioNTech<br>locations=%{location}<extra></extra>",
         "locationmode": "country names",
         "locations": [
          "Austria",
          "Belgium",
          "Bulgaria",
          "Canada",
          "Czechia",
          "Denmark",
          "Estonia",
          "Finland",
          "France",
          "Germany",
          "Greece",
          "Iceland",
          "Ireland",
          "Italy",
          "Latvia",
          "Lithuania",
          "Luxembourg",
          "Malta",
          "Netherlands",
          "Norway",
          "Poland",
          "Romania",
          "Rwanda",
          "Spain"
         ],
         "name": "Moderna, Oxford/AstraZeneca, Pfizer/BioNTech",
         "showlegend": true,
         "showscale": false,
         "type": "choropleth",
         "z": [
          1,
          1,
          1,
          1,
          1,
          1,
          1,
          1,
          1,
          1,
          1,
          1,
          1,
          1,
          1,
          1,
          1,
          1,
          1,
          1,
          1,
          1,
          1,
          1
         ]
        },
        {
         "colorscale": [
          [
           0,
           "#FF6692"
          ],
          [
           1,
           "#FF6692"
          ]
         ],
         "geo": "geo",
         "hovertemplate": "color=Sinovac<br>locations=%{location}<extra></extra>",
         "locationmode": "country names",
         "locations": [
          "Azerbaijan",
          "Indonesia"
         ],
         "name": "Sinovac",
         "showlegend": true,
         "showscale": false,
         "type": "choropleth",
         "z": [
          1,
          1
         ]
        },
        {
         "colorscale": [
          [
           0,
           "#B6E880"
          ],
          [
           1,
           "#B6E880"
          ]
         ],
         "geo": "geo",
         "hovertemplate": "color=Oxford/AstraZeneca, Pfizer/BioNTech, Sinopharm/Beijing, Sputnik V<br>locations=%{location}<extra></extra>",
         "locationmode": "country names",
         "locations": [
          "Bahrain",
          "Serbia"
         ],
         "name": "Oxford/AstraZeneca, Pfizer/BioNTech, Sinopharm/Beijing, Sputnik V",
         "showlegend": true,
         "showscale": false,
         "type": "choropleth",
         "z": [
          1,
          1
         ]
        },
        {
         "colorscale": [
          [
           0,
           "#FF97FF"
          ],
          [
           1,
           "#FF97FF"
          ]
         ],
         "geo": "geo",
         "hovertemplate": "color=Oxford/AstraZeneca, Sinovac<br>locations=%{location}<extra></extra>",
         "locationmode": "country names",
         "locations": [
          "Brazil",
          "Dominican Republic",
          "Philippines",
          "Thailand"
         ],
         "name": "Oxford/AstraZeneca, Sinovac",
         "showlegend": true,
         "showscale": false,
         "type": "choropleth",
         "z": [
          1,
          1,
          1,
          1
         ]
        },
        {
         "colorscale": [
          [
           0,
           "#FECB52"
          ],
          [
           1,
           "#FECB52"
          ]
         ],
         "geo": "geo",
         "hovertemplate": "color=Sinopharm/Beijing<br>locations=%{location}<extra></extra>",
         "locationmode": "country names",
         "locations": [
          "Cambodia",
          "Egypt",
          "Equatorial Guinea",
          "Mozambique",
          "Namibia",
          "Peru",
          "Senegal",
          "Zimbabwe"
         ],
         "name": "Sinopharm/Beijing",
         "showlegend": true,
         "showscale": false,
         "type": "choropleth",
         "z": [
          1,
          1,
          1,
          1,
          1,
          1,
          1,
          1
         ]
        },
        {
         "colorscale": [
          [
           0,
           "#636efa"
          ],
          [
           1,
           "#636efa"
          ]
         ],
         "geo": "geo",
         "hovertemplate": "color=Pfizer/BioNTech, Sinovac<br>locations=%{location}<extra></extra>",
         "locationmode": "country names",
         "locations": [
          "Chile",
          "Colombia",
          "Hong Kong",
          "Malaysia",
          "Turkey",
          "Uruguay"
         ],
         "name": "Pfizer/BioNTech, Sinovac",
         "showlegend": true,
         "showscale": false,
         "type": "choropleth",
         "z": [
          1,
          1,
          1,
          1,
          1,
          1
         ]
        },
        {
         "colorscale": [
          [
           0,
           "#EF553B"
          ],
          [
           1,
           "#EF553B"
          ]
         ],
         "geo": "geo",
         "hovertemplate": "color=Sinopharm/Beijing, Sinopharm/Wuhan, Sinovac<br>locations=%{location}<extra></extra>",
         "locationmode": "country names",
         "locations": [
          "China"
         ],
         "name": "Sinopharm/Beijing, Sinopharm/Wuhan, Sinovac",
         "showlegend": true,
         "showscale": false,
         "type": "choropleth",
         "z": [
          1
         ]
        },
        {
         "colorscale": [
          [
           0,
           "#00cc96"
          ],
          [
           1,
           "#00cc96"
          ]
         ],
         "geo": "geo",
         "hovertemplate": "color=Moderna, Pfizer/BioNTech<br>locations=%{location}<extra></extra>",
         "locationmode": "country names",
         "locations": [
          "Faeroe Islands",
          "Israel",
          "Liechtenstein",
          "Portugal",
          "Singapore",
          "Switzerland"
         ],
         "name": "Moderna, Pfizer/BioNTech",
         "showlegend": true,
         "showscale": false,
         "type": "choropleth",
         "z": [
          1,
          1,
          1,
          1,
          1,
          1
         ]
        },
        {
         "colorscale": [
          [
           0,
           "#ab63fa"
          ],
          [
           1,
           "#ab63fa"
          ]
         ],
         "geo": "geo",
         "hovertemplate": "color=Moderna<br>locations=%{location}<extra></extra>",
         "locationmode": "country names",
         "locations": [
          "Guatemala"
         ],
         "name": "Moderna",
         "showlegend": true,
         "showscale": false,
         "type": "choropleth",
         "z": [
          1
         ]
        },
        {
         "colorscale": [
          [
           0,
           "#FFA15A"
          ],
          [
           1,
           "#FFA15A"
          ]
         ],
         "geo": "geo",
         "hovertemplate": "color=Moderna, Oxford/AstraZeneca<br>locations=%{location}<extra></extra>",
         "locationmode": "country names",
         "locations": [
          "Honduras"
         ],
         "name": "Moderna, Oxford/AstraZeneca",
         "showlegend": true,
         "showscale": false,
         "type": "choropleth",
         "z": [
          1
         ]
        },
        {
         "colorscale": [
          [
           0,
           "#19d3f3"
          ],
          [
           1,
           "#19d3f3"
          ]
         ],
         "geo": "geo",
         "hovertemplate": "color=Moderna, Oxford/AstraZeneca, Pfizer/BioNTech, Sinopharm/Beijing, Sputnik V<br>locations=%{location}<extra></extra>",
         "locationmode": "country names",
         "locations": [
          "Hungary"
         ],
         "name": "Moderna, Oxford/AstraZeneca, Pfizer/BioNTech, Sinopharm/Beijing, Sputnik V",
         "showlegend": true,
         "showscale": false,
         "type": "choropleth",
         "z": [
          1
         ]
        },
        {
         "colorscale": [
          [
           0,
           "#FF6692"
          ],
          [
           1,
           "#FF6692"
          ]
         ],
         "geo": "geo",
         "hovertemplate": "color=Covaxin, Oxford/AstraZeneca<br>locations=%{location}<extra></extra>",
         "locationmode": "country names",
         "locations": [
          "India"
         ],
         "name": "Covaxin, Oxford/AstraZeneca",
         "showlegend": true,
         "showscale": false,
         "type": "choropleth",
         "z": [
          1
         ]
        },
        {
         "colorscale": [
          [
           0,
           "#B6E880"
          ],
          [
           1,
           "#B6E880"
          ]
         ],
         "geo": "geo",
         "hovertemplate": "color=Pfizer/BioNTech, Sinopharm/Beijing<br>locations=%{location}<extra></extra>",
         "locationmode": "country names",
         "locations": [
          "Jordan",
          "Macao"
         ],
         "name": "Pfizer/BioNTech, Sinopharm/Beijing",
         "showlegend": true,
         "showscale": false,
         "type": "choropleth",
         "z": [
          1,
          1
         ]
        },
        {
         "colorscale": [
          [
           0,
           "#FF97FF"
          ],
          [
           1,
           "#FF97FF"
          ]
         ],
         "geo": "geo",
         "hovertemplate": "color=Sinopharm/Beijing, Sputnik V<br>locations=%{location}<extra></extra>",
         "locationmode": "country names",
         "locations": [
          "Laos",
          "Montenegro"
         ],
         "name": "Sinopharm/Beijing, Sputnik V",
         "showlegend": true,
         "showscale": false,
         "type": "choropleth",
         "z": [
          1,
          1
         ]
        },
        {
         "colorscale": [
          [
           0,
           "#FECB52"
          ],
          [
           1,
           "#FECB52"
          ]
         ],
         "geo": "geo",
         "hovertemplate": "color=Oxford/AstraZeneca, Pfizer/BioNTech, Sputnik V<br>locations=%{location}<extra></extra>",
         "locationmode": "country names",
         "locations": [
          "Mexico"
         ],
         "name": "Oxford/AstraZeneca, Pfizer/BioNTech, Sputnik V",
         "showlegend": true,
         "showscale": false,
         "type": "choropleth",
         "z": [
          1
         ]
        },
        {
         "colorscale": [
          [
           0,
           "#636efa"
          ],
          [
           1,
           "#636efa"
          ]
         ],
         "geo": "geo",
         "hovertemplate": "color=Oxford/AstraZeneca, Sinopharm/Beijing<br>locations=%{location}<extra></extra>",
         "locationmode": "country names",
         "locations": [
          "Morocco",
          "Seychelles"
         ],
         "name": "Oxford/AstraZeneca, Sinopharm/Beijing",
         "showlegend": true,
         "showscale": false,
         "type": "choropleth",
         "z": [
          1,
          1
         ]
        },
        {
         "colorscale": [
          [
           0,
           "#EF553B"
          ],
          [
           1,
           "#EF553B"
          ]
         ],
         "geo": "geo",
         "hovertemplate": "color=Oxford/AstraZeneca, Pfizer/BioNTech, Sinovac<br>locations=%{location}<extra></extra>",
         "locationmode": "country names",
         "locations": [
          "Northern Cyprus"
         ],
         "name": "Oxford/AstraZeneca, Pfizer/BioNTech, Sinovac",
         "showlegend": true,
         "showscale": false,
         "type": "choropleth",
         "z": [
          1
         ]
        },
        {
         "colorscale": [
          [
           0,
           "#00cc96"
          ],
          [
           1,
           "#00cc96"
          ]
         ],
         "geo": "geo",
         "hovertemplate": "color=EpiVacCorona, Sputnik V<br>locations=%{location}<extra></extra>",
         "locationmode": "country names",
         "locations": [
          "Russia"
         ],
         "name": "EpiVacCorona, Sputnik V",
         "showlegend": true,
         "showscale": false,
         "type": "choropleth",
         "z": [
          1
         ]
        },
        {
         "colorscale": [
          [
           0,
           "#ab63fa"
          ],
          [
           1,
           "#ab63fa"
          ]
         ],
         "geo": "geo",
         "hovertemplate": "color=Johnson&Johnson<br>locations=%{location}<extra></extra>",
         "locationmode": "country names",
         "locations": [
          "South Africa"
         ],
         "name": "Johnson&Johnson",
         "showlegend": true,
         "showscale": false,
         "type": "choropleth",
         "z": [
          1
         ]
        },
        {
         "colorscale": [
          [
           0,
           "#FFA15A"
          ],
          [
           1,
           "#FFA15A"
          ]
         ],
         "geo": "geo",
         "hovertemplate": "color=Pfizer/BioNTech, Sputnik V<br>locations=%{location}<extra></extra>",
         "locationmode": "country names",
         "locations": [
          "Tunisia"
         ],
         "name": "Pfizer/BioNTech, Sputnik V",
         "showlegend": true,
         "showscale": false,
         "type": "choropleth",
         "z": [
          1
         ]
        },
        {
         "colorscale": [
          [
           0,
           "#19d3f3"
          ],
          [
           1,
           "#19d3f3"
          ]
         ],
         "geo": "geo",
         "hovertemplate": "color=Oxford/AstraZeneca, Pfizer/BioNTech, Sinopharm/Beijing, Sinopharm/Wuhan, Sputnik V<br>locations=%{location}<extra></extra>",
         "locationmode": "country names",
         "locations": [
          "United Arab Emirates"
         ],
         "name": "Oxford/AstraZeneca, Pfizer/BioNTech, Sinopharm/Beijing, Sinopharm/Wuhan, Sputnik V",
         "showlegend": true,
         "showscale": false,
         "type": "choropleth",
         "z": [
          1
         ]
        },
        {
         "colorscale": [
          [
           0,
           "#FF6692"
          ],
          [
           1,
           "#FF6692"
          ]
         ],
         "geo": "geo",
         "hovertemplate": "color=Johnson&Johnson, Moderna, Pfizer/BioNTech<br>locations=%{location}<extra></extra>",
         "locationmode": "country names",
         "locations": [
          "United States"
         ],
         "name": "Johnson&Johnson, Moderna, Pfizer/BioNTech",
         "showlegend": true,
         "showscale": false,
         "type": "choropleth",
         "z": [
          1
         ]
        }
       ],
       "layout": {
        "geo": {
         "center": {},
         "domain": {
          "x": [
           0,
           1
          ],
          "y": [
           0,
           1
          ]
         },
         "projection": {
          "type": "mercator"
         }
        },
        "height": 800,
        "legend": {
         "orientation": "v",
         "title": {
          "text": "Vaccine scheme"
         },
         "tracegroupgap": 0
        },
        "template": {
         "data": {
          "bar": [
           {
            "error_x": {
             "color": "#2a3f5f"
            },
            "error_y": {
             "color": "#2a3f5f"
            },
            "marker": {
             "line": {
              "color": "#E5ECF6",
              "width": 0.5
             }
            },
            "type": "bar"
           }
          ],
          "barpolar": [
           {
            "marker": {
             "line": {
              "color": "#E5ECF6",
              "width": 0.5
             }
            },
            "type": "barpolar"
           }
          ],
          "carpet": [
           {
            "aaxis": {
             "endlinecolor": "#2a3f5f",
             "gridcolor": "white",
             "linecolor": "white",
             "minorgridcolor": "white",
             "startlinecolor": "#2a3f5f"
            },
            "baxis": {
             "endlinecolor": "#2a3f5f",
             "gridcolor": "white",
             "linecolor": "white",
             "minorgridcolor": "white",
             "startlinecolor": "#2a3f5f"
            },
            "type": "carpet"
           }
          ],
          "choropleth": [
           {
            "colorbar": {
             "outlinewidth": 0,
             "ticks": ""
            },
            "type": "choropleth"
           }
          ],
          "contour": [
           {
            "colorbar": {
             "outlinewidth": 0,
             "ticks": ""
            },
            "colorscale": [
             [
              0,
              "#0d0887"
             ],
             [
              0.1111111111111111,
              "#46039f"
             ],
             [
              0.2222222222222222,
              "#7201a8"
             ],
             [
              0.3333333333333333,
              "#9c179e"
             ],
             [
              0.4444444444444444,
              "#bd3786"
             ],
             [
              0.5555555555555556,
              "#d8576b"
             ],
             [
              0.6666666666666666,
              "#ed7953"
             ],
             [
              0.7777777777777778,
              "#fb9f3a"
             ],
             [
              0.8888888888888888,
              "#fdca26"
             ],
             [
              1,
              "#f0f921"
             ]
            ],
            "type": "contour"
           }
          ],
          "contourcarpet": [
           {
            "colorbar": {
             "outlinewidth": 0,
             "ticks": ""
            },
            "type": "contourcarpet"
           }
          ],
          "heatmap": [
           {
            "colorbar": {
             "outlinewidth": 0,
             "ticks": ""
            },
            "colorscale": [
             [
              0,
              "#0d0887"
             ],
             [
              0.1111111111111111,
              "#46039f"
             ],
             [
              0.2222222222222222,
              "#7201a8"
             ],
             [
              0.3333333333333333,
              "#9c179e"
             ],
             [
              0.4444444444444444,
              "#bd3786"
             ],
             [
              0.5555555555555556,
              "#d8576b"
             ],
             [
              0.6666666666666666,
              "#ed7953"
             ],
             [
              0.7777777777777778,
              "#fb9f3a"
             ],
             [
              0.8888888888888888,
              "#fdca26"
             ],
             [
              1,
              "#f0f921"
             ]
            ],
            "type": "heatmap"
           }
          ],
          "heatmapgl": [
           {
            "colorbar": {
             "outlinewidth": 0,
             "ticks": ""
            },
            "colorscale": [
             [
              0,
              "#0d0887"
             ],
             [
              0.1111111111111111,
              "#46039f"
             ],
             [
              0.2222222222222222,
              "#7201a8"
             ],
             [
              0.3333333333333333,
              "#9c179e"
             ],
             [
              0.4444444444444444,
              "#bd3786"
             ],
             [
              0.5555555555555556,
              "#d8576b"
             ],
             [
              0.6666666666666666,
              "#ed7953"
             ],
             [
              0.7777777777777778,
              "#fb9f3a"
             ],
             [
              0.8888888888888888,
              "#fdca26"
             ],
             [
              1,
              "#f0f921"
             ]
            ],
            "type": "heatmapgl"
           }
          ],
          "histogram": [
           {
            "marker": {
             "colorbar": {
              "outlinewidth": 0,
              "ticks": ""
             }
            },
            "type": "histogram"
           }
          ],
          "histogram2d": [
           {
            "colorbar": {
             "outlinewidth": 0,
             "ticks": ""
            },
            "colorscale": [
             [
              0,
              "#0d0887"
             ],
             [
              0.1111111111111111,
              "#46039f"
             ],
             [
              0.2222222222222222,
              "#7201a8"
             ],
             [
              0.3333333333333333,
              "#9c179e"
             ],
             [
              0.4444444444444444,
              "#bd3786"
             ],
             [
              0.5555555555555556,
              "#d8576b"
             ],
             [
              0.6666666666666666,
              "#ed7953"
             ],
             [
              0.7777777777777778,
              "#fb9f3a"
             ],
             [
              0.8888888888888888,
              "#fdca26"
             ],
             [
              1,
              "#f0f921"
             ]
            ],
            "type": "histogram2d"
           }
          ],
          "histogram2dcontour": [
           {
            "colorbar": {
             "outlinewidth": 0,
             "ticks": ""
            },
            "colorscale": [
             [
              0,
              "#0d0887"
             ],
             [
              0.1111111111111111,
              "#46039f"
             ],
             [
              0.2222222222222222,
              "#7201a8"
             ],
             [
              0.3333333333333333,
              "#9c179e"
             ],
             [
              0.4444444444444444,
              "#bd3786"
             ],
             [
              0.5555555555555556,
              "#d8576b"
             ],
             [
              0.6666666666666666,
              "#ed7953"
             ],
             [
              0.7777777777777778,
              "#fb9f3a"
             ],
             [
              0.8888888888888888,
              "#fdca26"
             ],
             [
              1,
              "#f0f921"
             ]
            ],
            "type": "histogram2dcontour"
           }
          ],
          "mesh3d": [
           {
            "colorbar": {
             "outlinewidth": 0,
             "ticks": ""
            },
            "type": "mesh3d"
           }
          ],
          "parcoords": [
           {
            "line": {
             "colorbar": {
              "outlinewidth": 0,
              "ticks": ""
             }
            },
            "type": "parcoords"
           }
          ],
          "pie": [
           {
            "automargin": true,
            "type": "pie"
           }
          ],
          "scatter": [
           {
            "marker": {
             "colorbar": {
              "outlinewidth": 0,
              "ticks": ""
             }
            },
            "type": "scatter"
           }
          ],
          "scatter3d": [
           {
            "line": {
             "colorbar": {
              "outlinewidth": 0,
              "ticks": ""
             }
            },
            "marker": {
             "colorbar": {
              "outlinewidth": 0,
              "ticks": ""
             }
            },
            "type": "scatter3d"
           }
          ],
          "scattercarpet": [
           {
            "marker": {
             "colorbar": {
              "outlinewidth": 0,
              "ticks": ""
             }
            },
            "type": "scattercarpet"
           }
          ],
          "scattergeo": [
           {
            "marker": {
             "colorbar": {
              "outlinewidth": 0,
              "ticks": ""
             }
            },
            "type": "scattergeo"
           }
          ],
          "scattergl": [
           {
            "marker": {
             "colorbar": {
              "outlinewidth": 0,
              "ticks": ""
             }
            },
            "type": "scattergl"
           }
          ],
          "scattermapbox": [
           {
            "marker": {
             "colorbar": {
              "outlinewidth": 0,
              "ticks": ""
             }
            },
            "type": "scattermapbox"
           }
          ],
          "scatterpolar": [
           {
            "marker": {
             "colorbar": {
              "outlinewidth": 0,
              "ticks": ""
             }
            },
            "type": "scatterpolar"
           }
          ],
          "scatterpolargl": [
           {
            "marker": {
             "colorbar": {
              "outlinewidth": 0,
              "ticks": ""
             }
            },
            "type": "scatterpolargl"
           }
          ],
          "scatterternary": [
           {
            "marker": {
             "colorbar": {
              "outlinewidth": 0,
              "ticks": ""
             }
            },
            "type": "scatterternary"
           }
          ],
          "surface": [
           {
            "colorbar": {
             "outlinewidth": 0,
             "ticks": ""
            },
            "colorscale": [
             [
              0,
              "#0d0887"
             ],
             [
              0.1111111111111111,
              "#46039f"
             ],
             [
              0.2222222222222222,
              "#7201a8"
             ],
             [
              0.3333333333333333,
              "#9c179e"
             ],
             [
              0.4444444444444444,
              "#bd3786"
             ],
             [
              0.5555555555555556,
              "#d8576b"
             ],
             [
              0.6666666666666666,
              "#ed7953"
             ],
             [
              0.7777777777777778,
              "#fb9f3a"
             ],
             [
              0.8888888888888888,
              "#fdca26"
             ],
             [
              1,
              "#f0f921"
             ]
            ],
            "type": "surface"
           }
          ],
          "table": [
           {
            "cells": {
             "fill": {
              "color": "#EBF0F8"
             },
             "line": {
              "color": "white"
             }
            },
            "header": {
             "fill": {
              "color": "#C8D4E3"
             },
             "line": {
              "color": "white"
             }
            },
            "type": "table"
           }
          ]
         },
         "layout": {
          "annotationdefaults": {
           "arrowcolor": "#2a3f5f",
           "arrowhead": 0,
           "arrowwidth": 1
          },
          "autotypenumbers": "strict",
          "coloraxis": {
           "colorbar": {
            "outlinewidth": 0,
            "ticks": ""
           }
          },
          "colorscale": {
           "diverging": [
            [
             0,
             "#8e0152"
            ],
            [
             0.1,
             "#c51b7d"
            ],
            [
             0.2,
             "#de77ae"
            ],
            [
             0.3,
             "#f1b6da"
            ],
            [
             0.4,
             "#fde0ef"
            ],
            [
             0.5,
             "#f7f7f7"
            ],
            [
             0.6,
             "#e6f5d0"
            ],
            [
             0.7,
             "#b8e186"
            ],
            [
             0.8,
             "#7fbc41"
            ],
            [
             0.9,
             "#4d9221"
            ],
            [
             1,
             "#276419"
            ]
           ],
           "sequential": [
            [
             0,
             "#0d0887"
            ],
            [
             0.1111111111111111,
             "#46039f"
            ],
            [
             0.2222222222222222,
             "#7201a8"
            ],
            [
             0.3333333333333333,
             "#9c179e"
            ],
            [
             0.4444444444444444,
             "#bd3786"
            ],
            [
             0.5555555555555556,
             "#d8576b"
            ],
            [
             0.6666666666666666,
             "#ed7953"
            ],
            [
             0.7777777777777778,
             "#fb9f3a"
            ],
            [
             0.8888888888888888,
             "#fdca26"
            ],
            [
             1,
             "#f0f921"
            ]
           ],
           "sequentialminus": [
            [
             0,
             "#0d0887"
            ],
            [
             0.1111111111111111,
             "#46039f"
            ],
            [
             0.2222222222222222,
             "#7201a8"
            ],
            [
             0.3333333333333333,
             "#9c179e"
            ],
            [
             0.4444444444444444,
             "#bd3786"
            ],
            [
             0.5555555555555556,
             "#d8576b"
            ],
            [
             0.6666666666666666,
             "#ed7953"
            ],
            [
             0.7777777777777778,
             "#fb9f3a"
            ],
            [
             0.8888888888888888,
             "#fdca26"
            ],
            [
             1,
             "#f0f921"
            ]
           ]
          },
          "colorway": [
           "#636efa",
           "#EF553B",
           "#00cc96",
           "#ab63fa",
           "#FFA15A",
           "#19d3f3",
           "#FF6692",
           "#B6E880",
           "#FF97FF",
           "#FECB52"
          ],
          "font": {
           "color": "#2a3f5f"
          },
          "geo": {
           "bgcolor": "white",
           "lakecolor": "white",
           "landcolor": "#E5ECF6",
           "showlakes": true,
           "showland": true,
           "subunitcolor": "white"
          },
          "hoverlabel": {
           "align": "left"
          },
          "hovermode": "closest",
          "mapbox": {
           "style": "light"
          },
          "paper_bgcolor": "white",
          "plot_bgcolor": "#E5ECF6",
          "polar": {
           "angularaxis": {
            "gridcolor": "white",
            "linecolor": "white",
            "ticks": ""
           },
           "bgcolor": "#E5ECF6",
           "radialaxis": {
            "gridcolor": "white",
            "linecolor": "white",
            "ticks": ""
           }
          },
          "scene": {
           "xaxis": {
            "backgroundcolor": "#E5ECF6",
            "gridcolor": "white",
            "gridwidth": 2,
            "linecolor": "white",
            "showbackground": true,
            "ticks": "",
            "zerolinecolor": "white"
           },
           "yaxis": {
            "backgroundcolor": "#E5ECF6",
            "gridcolor": "white",
            "gridwidth": 2,
            "linecolor": "white",
            "showbackground": true,
            "ticks": "",
            "zerolinecolor": "white"
           },
           "zaxis": {
            "backgroundcolor": "#E5ECF6",
            "gridcolor": "white",
            "gridwidth": 2,
            "linecolor": "white",
            "showbackground": true,
            "ticks": "",
            "zerolinecolor": "white"
           }
          },
          "shapedefaults": {
           "line": {
            "color": "#2a3f5f"
           }
          },
          "ternary": {
           "aaxis": {
            "gridcolor": "white",
            "linecolor": "white",
            "ticks": ""
           },
           "baxis": {
            "gridcolor": "white",
            "linecolor": "white",
            "ticks": ""
           },
           "bgcolor": "#E5ECF6",
           "caxis": {
            "gridcolor": "white",
            "linecolor": "white",
            "ticks": ""
           }
          },
          "title": {
           "x": 0.05
          },
          "xaxis": {
           "automargin": true,
           "gridcolor": "white",
           "linecolor": "white",
           "ticks": "",
           "title": {
            "standoff": 15
           },
           "zerolinecolor": "white",
           "zerolinewidth": 2
          },
          "yaxis": {
           "automargin": true,
           "gridcolor": "white",
           "linecolor": "white",
           "ticks": "",
           "title": {
            "standoff": 15
           },
           "zerolinecolor": "white",
           "zerolinewidth": 2
          }
         }
        },
        "title": {
         "text": "Countries using each vaccine (different colors for each vaccine)"
        }
       }
      },
      "text/html": [
       "<div>                            <div id=\"88fa795b-da6b-4346-81ab-ef6718a2fec6\" class=\"plotly-graph-div\" style=\"height:800px; width:100%;\"></div>            <script type=\"text/javascript\">                require([\"plotly\"], function(Plotly) {                    window.PLOTLYENV=window.PLOTLYENV || {};                                    if (document.getElementById(\"88fa795b-da6b-4346-81ab-ef6718a2fec6\")) {                    Plotly.newPlot(                        \"88fa795b-da6b-4346-81ab-ef6718a2fec6\",                        [{\"colorscale\": [[0.0, \"#636efa\"], [1.0, \"#636efa\"]], \"geo\": \"geo\", \"hovertemplate\": \"color=Oxford/AstraZeneca<br>locations=%{location}<extra></extra>\", \"locationmode\": \"country names\", \"locations\": [\"Afghanistan\", \"Angola\", \"Anguilla\", \"Antigua and Barbuda\", \"Bahamas\", \"Bangladesh\", \"Barbados\", \"Belize\", \"Cote d'Ivoire\", \"Dominica\", \"El Salvador\", \"Falkland Islands\", \"Ghana\", \"Grenada\", \"Guyana\", \"Jamaica\", \"Kenya\", \"Malawi\", \"Maldives\", \"Mauritius\", \"Moldova\", \"Mongolia\", \"Montserrat\", \"Myanmar\", \"Nepal\", \"Nigeria\", \"Saint Helena\", \"Saint Kitts and Nevis\", \"Saint Lucia\", \"Saint Vincent and the Grenadines\", \"Sierra Leone\", \"Sri Lanka\", \"Suriname\", \"Taiwan\", \"Togo\", \"Trinidad and Tobago\", \"Uganda\", \"Ukraine\", \"Vietnam\"], \"name\": \"Oxford/AstraZeneca\", \"showlegend\": true, \"showscale\": false, \"type\": \"choropleth\", \"z\": [1, 1, 1, 1, 1, 1, 1, 1, 1, 1, 1, 1, 1, 1, 1, 1, 1, 1, 1, 1, 1, 1, 1, 1, 1, 1, 1, 1, 1, 1, 1, 1, 1, 1, 1, 1, 1, 1, 1]}, {\"colorscale\": [[0.0, \"#EF553B\"], [1.0, \"#EF553B\"]], \"geo\": \"geo\", \"hovertemplate\": \"color=Pfizer/BioNTech<br>locations=%{location}<extra></extra>\", \"locationmode\": \"country names\", \"locations\": [\"Albania\", \"Andorra\", \"Bermuda\", \"Cayman Islands\", \"Costa Rica\", \"Croatia\", \"Cyprus\", \"Ecuador\", \"Gibraltar\", \"Greenland\", \"Guernsey\", \"Japan\", \"Kuwait\", \"Lebanon\", \"Monaco\", \"New Zealand\", \"North Macedonia\", \"Panama\", \"Qatar\", \"Slovakia\", \"Turks and Caicos Islands\"], \"name\": \"Pfizer/BioNTech\", \"showlegend\": true, \"showscale\": false, \"type\": \"choropleth\", \"z\": [1, 1, 1, 1, 1, 1, 1, 1, 1, 1, 1, 1, 1, 1, 1, 1, 1, 1, 1, 1, 1]}, {\"colorscale\": [[0.0, \"#00cc96\"], [1.0, \"#00cc96\"]], \"geo\": \"geo\", \"hovertemplate\": \"color=Sputnik V<br>locations=%{location}<extra></extra>\", \"locationmode\": \"country names\", \"locations\": [\"Algeria\", \"Belarus\", \"Bolivia\", \"Guinea\", \"Iran\", \"Kazakhstan\", \"Paraguay\", \"San Marino\", \"Venezuela\"], \"name\": \"Sputnik V\", \"showlegend\": true, \"showscale\": false, \"type\": \"choropleth\", \"z\": [1, 1, 1, 1, 1, 1, 1, 1, 1]}, {\"colorscale\": [[0.0, \"#ab63fa\"], [1.0, \"#ab63fa\"]], \"geo\": \"geo\", \"hovertemplate\": \"color=Oxford/AstraZeneca, Sinopharm/Beijing, Sputnik V<br>locations=%{location}<extra></extra>\", \"locationmode\": \"country names\", \"locations\": [\"Argentina\", \"Pakistan\"], \"name\": \"Oxford/AstraZeneca, Sinopharm/Beijing, Sputnik V\", \"showlegend\": true, \"showscale\": false, \"type\": \"choropleth\", \"z\": [1, 1]}, {\"colorscale\": [[0.0, \"#FFA15A\"], [1.0, \"#FFA15A\"]], \"geo\": \"geo\", \"hovertemplate\": \"color=Oxford/AstraZeneca, Pfizer/BioNTech<br>locations=%{location}<extra></extra>\", \"locationmode\": \"country names\", \"locations\": [\"Australia\", \"England\", \"Isle of Man\", \"Jersey\", \"Northern Ireland\", \"Oman\", \"Saudi Arabia\", \"Scotland\", \"Slovenia\", \"South Korea\", \"Sweden\", \"United Kingdom\", \"Wales\"], \"name\": \"Oxford/AstraZeneca, Pfizer/BioNTech\", \"showlegend\": true, \"showscale\": false, \"type\": \"choropleth\", \"z\": [1, 1, 1, 1, 1, 1, 1, 1, 1, 1, 1, 1, 1]}, {\"colorscale\": [[0.0, \"#19d3f3\"], [1.0, \"#19d3f3\"]], \"geo\": \"geo\", \"hovertemplate\": \"color=Moderna, Oxford/AstraZeneca, Pfizer/BioNTech<br>locations=%{location}<extra></extra>\", \"locationmode\": \"country names\", \"locations\": [\"Austria\", \"Belgium\", \"Bulgaria\", \"Canada\", \"Czechia\", \"Denmark\", \"Estonia\", \"Finland\", \"France\", \"Germany\", \"Greece\", \"Iceland\", \"Ireland\", \"Italy\", \"Latvia\", \"Lithuania\", \"Luxembourg\", \"Malta\", \"Netherlands\", \"Norway\", \"Poland\", \"Romania\", \"Rwanda\", \"Spain\"], \"name\": \"Moderna, Oxford/AstraZeneca, Pfizer/BioNTech\", \"showlegend\": true, \"showscale\": false, \"type\": \"choropleth\", \"z\": [1, 1, 1, 1, 1, 1, 1, 1, 1, 1, 1, 1, 1, 1, 1, 1, 1, 1, 1, 1, 1, 1, 1, 1]}, {\"colorscale\": [[0.0, \"#FF6692\"], [1.0, \"#FF6692\"]], \"geo\": \"geo\", \"hovertemplate\": \"color=Sinovac<br>locations=%{location}<extra></extra>\", \"locationmode\": \"country names\", \"locations\": [\"Azerbaijan\", \"Indonesia\"], \"name\": \"Sinovac\", \"showlegend\": true, \"showscale\": false, \"type\": \"choropleth\", \"z\": [1, 1]}, {\"colorscale\": [[0.0, \"#B6E880\"], [1.0, \"#B6E880\"]], \"geo\": \"geo\", \"hovertemplate\": \"color=Oxford/AstraZeneca, Pfizer/BioNTech, Sinopharm/Beijing, Sputnik V<br>locations=%{location}<extra></extra>\", \"locationmode\": \"country names\", \"locations\": [\"Bahrain\", \"Serbia\"], \"name\": \"Oxford/AstraZeneca, Pfizer/BioNTech, Sinopharm/Beijing, Sputnik V\", \"showlegend\": true, \"showscale\": false, \"type\": \"choropleth\", \"z\": [1, 1]}, {\"colorscale\": [[0.0, \"#FF97FF\"], [1.0, \"#FF97FF\"]], \"geo\": \"geo\", \"hovertemplate\": \"color=Oxford/AstraZeneca, Sinovac<br>locations=%{location}<extra></extra>\", \"locationmode\": \"country names\", \"locations\": [\"Brazil\", \"Dominican Republic\", \"Philippines\", \"Thailand\"], \"name\": \"Oxford/AstraZeneca, Sinovac\", \"showlegend\": true, \"showscale\": false, \"type\": \"choropleth\", \"z\": [1, 1, 1, 1]}, {\"colorscale\": [[0.0, \"#FECB52\"], [1.0, \"#FECB52\"]], \"geo\": \"geo\", \"hovertemplate\": \"color=Sinopharm/Beijing<br>locations=%{location}<extra></extra>\", \"locationmode\": \"country names\", \"locations\": [\"Cambodia\", \"Egypt\", \"Equatorial Guinea\", \"Mozambique\", \"Namibia\", \"Peru\", \"Senegal\", \"Zimbabwe\"], \"name\": \"Sinopharm/Beijing\", \"showlegend\": true, \"showscale\": false, \"type\": \"choropleth\", \"z\": [1, 1, 1, 1, 1, 1, 1, 1]}, {\"colorscale\": [[0.0, \"#636efa\"], [1.0, \"#636efa\"]], \"geo\": \"geo\", \"hovertemplate\": \"color=Pfizer/BioNTech, Sinovac<br>locations=%{location}<extra></extra>\", \"locationmode\": \"country names\", \"locations\": [\"Chile\", \"Colombia\", \"Hong Kong\", \"Malaysia\", \"Turkey\", \"Uruguay\"], \"name\": \"Pfizer/BioNTech, Sinovac\", \"showlegend\": true, \"showscale\": false, \"type\": \"choropleth\", \"z\": [1, 1, 1, 1, 1, 1]}, {\"colorscale\": [[0.0, \"#EF553B\"], [1.0, \"#EF553B\"]], \"geo\": \"geo\", \"hovertemplate\": \"color=Sinopharm/Beijing, Sinopharm/Wuhan, Sinovac<br>locations=%{location}<extra></extra>\", \"locationmode\": \"country names\", \"locations\": [\"China\"], \"name\": \"Sinopharm/Beijing, Sinopharm/Wuhan, Sinovac\", \"showlegend\": true, \"showscale\": false, \"type\": \"choropleth\", \"z\": [1]}, {\"colorscale\": [[0.0, \"#00cc96\"], [1.0, \"#00cc96\"]], \"geo\": \"geo\", \"hovertemplate\": \"color=Moderna, Pfizer/BioNTech<br>locations=%{location}<extra></extra>\", \"locationmode\": \"country names\", \"locations\": [\"Faeroe Islands\", \"Israel\", \"Liechtenstein\", \"Portugal\", \"Singapore\", \"Switzerland\"], \"name\": \"Moderna, Pfizer/BioNTech\", \"showlegend\": true, \"showscale\": false, \"type\": \"choropleth\", \"z\": [1, 1, 1, 1, 1, 1]}, {\"colorscale\": [[0.0, \"#ab63fa\"], [1.0, \"#ab63fa\"]], \"geo\": \"geo\", \"hovertemplate\": \"color=Moderna<br>locations=%{location}<extra></extra>\", \"locationmode\": \"country names\", \"locations\": [\"Guatemala\"], \"name\": \"Moderna\", \"showlegend\": true, \"showscale\": false, \"type\": \"choropleth\", \"z\": [1]}, {\"colorscale\": [[0.0, \"#FFA15A\"], [1.0, \"#FFA15A\"]], \"geo\": \"geo\", \"hovertemplate\": \"color=Moderna, Oxford/AstraZeneca<br>locations=%{location}<extra></extra>\", \"locationmode\": \"country names\", \"locations\": [\"Honduras\"], \"name\": \"Moderna, Oxford/AstraZeneca\", \"showlegend\": true, \"showscale\": false, \"type\": \"choropleth\", \"z\": [1]}, {\"colorscale\": [[0.0, \"#19d3f3\"], [1.0, \"#19d3f3\"]], \"geo\": \"geo\", \"hovertemplate\": \"color=Moderna, Oxford/AstraZeneca, Pfizer/BioNTech, Sinopharm/Beijing, Sputnik V<br>locations=%{location}<extra></extra>\", \"locationmode\": \"country names\", \"locations\": [\"Hungary\"], \"name\": \"Moderna, Oxford/AstraZeneca, Pfizer/BioNTech, Sinopharm/Beijing, Sputnik V\", \"showlegend\": true, \"showscale\": false, \"type\": \"choropleth\", \"z\": [1]}, {\"colorscale\": [[0.0, \"#FF6692\"], [1.0, \"#FF6692\"]], \"geo\": \"geo\", \"hovertemplate\": \"color=Covaxin, Oxford/AstraZeneca<br>locations=%{location}<extra></extra>\", \"locationmode\": \"country names\", \"locations\": [\"India\"], \"name\": \"Covaxin, Oxford/AstraZeneca\", \"showlegend\": true, \"showscale\": false, \"type\": \"choropleth\", \"z\": [1]}, {\"colorscale\": [[0.0, \"#B6E880\"], [1.0, \"#B6E880\"]], \"geo\": \"geo\", \"hovertemplate\": \"color=Pfizer/BioNTech, Sinopharm/Beijing<br>locations=%{location}<extra></extra>\", \"locationmode\": \"country names\", \"locations\": [\"Jordan\", \"Macao\"], \"name\": \"Pfizer/BioNTech, Sinopharm/Beijing\", \"showlegend\": true, \"showscale\": false, \"type\": \"choropleth\", \"z\": [1, 1]}, {\"colorscale\": [[0.0, \"#FF97FF\"], [1.0, \"#FF97FF\"]], \"geo\": \"geo\", \"hovertemplate\": \"color=Sinopharm/Beijing, Sputnik V<br>locations=%{location}<extra></extra>\", \"locationmode\": \"country names\", \"locations\": [\"Laos\", \"Montenegro\"], \"name\": \"Sinopharm/Beijing, Sputnik V\", \"showlegend\": true, \"showscale\": false, \"type\": \"choropleth\", \"z\": [1, 1]}, {\"colorscale\": [[0.0, \"#FECB52\"], [1.0, \"#FECB52\"]], \"geo\": \"geo\", \"hovertemplate\": \"color=Oxford/AstraZeneca, Pfizer/BioNTech, Sputnik V<br>locations=%{location}<extra></extra>\", \"locationmode\": \"country names\", \"locations\": [\"Mexico\"], \"name\": \"Oxford/AstraZeneca, Pfizer/BioNTech, Sputnik V\", \"showlegend\": true, \"showscale\": false, \"type\": \"choropleth\", \"z\": [1]}, {\"colorscale\": [[0.0, \"#636efa\"], [1.0, \"#636efa\"]], \"geo\": \"geo\", \"hovertemplate\": \"color=Oxford/AstraZeneca, Sinopharm/Beijing<br>locations=%{location}<extra></extra>\", \"locationmode\": \"country names\", \"locations\": [\"Morocco\", \"Seychelles\"], \"name\": \"Oxford/AstraZeneca, Sinopharm/Beijing\", \"showlegend\": true, \"showscale\": false, \"type\": \"choropleth\", \"z\": [1, 1]}, {\"colorscale\": [[0.0, \"#EF553B\"], [1.0, \"#EF553B\"]], \"geo\": \"geo\", \"hovertemplate\": \"color=Oxford/AstraZeneca, Pfizer/BioNTech, Sinovac<br>locations=%{location}<extra></extra>\", \"locationmode\": \"country names\", \"locations\": [\"Northern Cyprus\"], \"name\": \"Oxford/AstraZeneca, Pfizer/BioNTech, Sinovac\", \"showlegend\": true, \"showscale\": false, \"type\": \"choropleth\", \"z\": [1]}, {\"colorscale\": [[0.0, \"#00cc96\"], [1.0, \"#00cc96\"]], \"geo\": \"geo\", \"hovertemplate\": \"color=EpiVacCorona, Sputnik V<br>locations=%{location}<extra></extra>\", \"locationmode\": \"country names\", \"locations\": [\"Russia\"], \"name\": \"EpiVacCorona, Sputnik V\", \"showlegend\": true, \"showscale\": false, \"type\": \"choropleth\", \"z\": [1]}, {\"colorscale\": [[0.0, \"#ab63fa\"], [1.0, \"#ab63fa\"]], \"geo\": \"geo\", \"hovertemplate\": \"color=Johnson&Johnson<br>locations=%{location}<extra></extra>\", \"locationmode\": \"country names\", \"locations\": [\"South Africa\"], \"name\": \"Johnson&Johnson\", \"showlegend\": true, \"showscale\": false, \"type\": \"choropleth\", \"z\": [1]}, {\"colorscale\": [[0.0, \"#FFA15A\"], [1.0, \"#FFA15A\"]], \"geo\": \"geo\", \"hovertemplate\": \"color=Pfizer/BioNTech, Sputnik V<br>locations=%{location}<extra></extra>\", \"locationmode\": \"country names\", \"locations\": [\"Tunisia\"], \"name\": \"Pfizer/BioNTech, Sputnik V\", \"showlegend\": true, \"showscale\": false, \"type\": \"choropleth\", \"z\": [1]}, {\"colorscale\": [[0.0, \"#19d3f3\"], [1.0, \"#19d3f3\"]], \"geo\": \"geo\", \"hovertemplate\": \"color=Oxford/AstraZeneca, Pfizer/BioNTech, Sinopharm/Beijing, Sinopharm/Wuhan, Sputnik V<br>locations=%{location}<extra></extra>\", \"locationmode\": \"country names\", \"locations\": [\"United Arab Emirates\"], \"name\": \"Oxford/AstraZeneca, Pfizer/BioNTech, Sinopharm/Beijing, Sinopharm/Wuhan, Sputnik V\", \"showlegend\": true, \"showscale\": false, \"type\": \"choropleth\", \"z\": [1]}, {\"colorscale\": [[0.0, \"#FF6692\"], [1.0, \"#FF6692\"]], \"geo\": \"geo\", \"hovertemplate\": \"color=Johnson&Johnson, Moderna, Pfizer/BioNTech<br>locations=%{location}<extra></extra>\", \"locationmode\": \"country names\", \"locations\": [\"United States\"], \"name\": \"Johnson&Johnson, Moderna, Pfizer/BioNTech\", \"showlegend\": true, \"showscale\": false, \"type\": \"choropleth\", \"z\": [1]}],                        {\"geo\": {\"center\": {}, \"domain\": {\"x\": [0.0, 1.0], \"y\": [0.0, 1.0]}, \"projection\": {\"type\": \"mercator\"}}, \"height\": 800, \"legend\": {\"orientation\": \"v\", \"title\": {\"text\": \"Vaccine scheme\"}, \"tracegroupgap\": 0}, \"template\": {\"data\": {\"bar\": [{\"error_x\": {\"color\": \"#2a3f5f\"}, \"error_y\": {\"color\": \"#2a3f5f\"}, \"marker\": {\"line\": {\"color\": \"#E5ECF6\", \"width\": 0.5}}, \"type\": \"bar\"}], \"barpolar\": [{\"marker\": {\"line\": {\"color\": \"#E5ECF6\", \"width\": 0.5}}, \"type\": \"barpolar\"}], \"carpet\": [{\"aaxis\": {\"endlinecolor\": \"#2a3f5f\", \"gridcolor\": \"white\", \"linecolor\": \"white\", \"minorgridcolor\": \"white\", \"startlinecolor\": \"#2a3f5f\"}, \"baxis\": {\"endlinecolor\": \"#2a3f5f\", \"gridcolor\": \"white\", \"linecolor\": \"white\", \"minorgridcolor\": \"white\", \"startlinecolor\": \"#2a3f5f\"}, \"type\": \"carpet\"}], \"choropleth\": [{\"colorbar\": {\"outlinewidth\": 0, \"ticks\": \"\"}, \"type\": \"choropleth\"}], \"contour\": [{\"colorbar\": {\"outlinewidth\": 0, \"ticks\": \"\"}, \"colorscale\": [[0.0, \"#0d0887\"], [0.1111111111111111, \"#46039f\"], [0.2222222222222222, \"#7201a8\"], [0.3333333333333333, \"#9c179e\"], [0.4444444444444444, \"#bd3786\"], [0.5555555555555556, \"#d8576b\"], [0.6666666666666666, \"#ed7953\"], [0.7777777777777778, \"#fb9f3a\"], [0.8888888888888888, \"#fdca26\"], [1.0, \"#f0f921\"]], \"type\": \"contour\"}], \"contourcarpet\": [{\"colorbar\": {\"outlinewidth\": 0, \"ticks\": \"\"}, \"type\": \"contourcarpet\"}], \"heatmap\": [{\"colorbar\": {\"outlinewidth\": 0, \"ticks\": \"\"}, \"colorscale\": [[0.0, \"#0d0887\"], [0.1111111111111111, \"#46039f\"], [0.2222222222222222, \"#7201a8\"], [0.3333333333333333, \"#9c179e\"], [0.4444444444444444, \"#bd3786\"], [0.5555555555555556, \"#d8576b\"], [0.6666666666666666, \"#ed7953\"], [0.7777777777777778, \"#fb9f3a\"], [0.8888888888888888, \"#fdca26\"], [1.0, \"#f0f921\"]], \"type\": \"heatmap\"}], \"heatmapgl\": [{\"colorbar\": {\"outlinewidth\": 0, \"ticks\": \"\"}, \"colorscale\": [[0.0, \"#0d0887\"], [0.1111111111111111, \"#46039f\"], [0.2222222222222222, \"#7201a8\"], [0.3333333333333333, \"#9c179e\"], [0.4444444444444444, \"#bd3786\"], [0.5555555555555556, \"#d8576b\"], [0.6666666666666666, \"#ed7953\"], [0.7777777777777778, \"#fb9f3a\"], [0.8888888888888888, \"#fdca26\"], [1.0, \"#f0f921\"]], \"type\": \"heatmapgl\"}], \"histogram\": [{\"marker\": {\"colorbar\": {\"outlinewidth\": 0, \"ticks\": \"\"}}, \"type\": \"histogram\"}], \"histogram2d\": [{\"colorbar\": {\"outlinewidth\": 0, \"ticks\": \"\"}, \"colorscale\": [[0.0, \"#0d0887\"], [0.1111111111111111, \"#46039f\"], [0.2222222222222222, \"#7201a8\"], [0.3333333333333333, \"#9c179e\"], [0.4444444444444444, \"#bd3786\"], [0.5555555555555556, \"#d8576b\"], [0.6666666666666666, \"#ed7953\"], [0.7777777777777778, \"#fb9f3a\"], [0.8888888888888888, \"#fdca26\"], [1.0, \"#f0f921\"]], \"type\": \"histogram2d\"}], \"histogram2dcontour\": [{\"colorbar\": {\"outlinewidth\": 0, \"ticks\": \"\"}, \"colorscale\": [[0.0, \"#0d0887\"], [0.1111111111111111, \"#46039f\"], [0.2222222222222222, \"#7201a8\"], [0.3333333333333333, \"#9c179e\"], [0.4444444444444444, \"#bd3786\"], [0.5555555555555556, \"#d8576b\"], [0.6666666666666666, \"#ed7953\"], [0.7777777777777778, \"#fb9f3a\"], [0.8888888888888888, \"#fdca26\"], [1.0, \"#f0f921\"]], \"type\": \"histogram2dcontour\"}], \"mesh3d\": [{\"colorbar\": {\"outlinewidth\": 0, \"ticks\": \"\"}, \"type\": \"mesh3d\"}], \"parcoords\": [{\"line\": {\"colorbar\": {\"outlinewidth\": 0, \"ticks\": \"\"}}, \"type\": \"parcoords\"}], \"pie\": [{\"automargin\": true, \"type\": \"pie\"}], \"scatter\": [{\"marker\": {\"colorbar\": {\"outlinewidth\": 0, \"ticks\": \"\"}}, \"type\": \"scatter\"}], \"scatter3d\": [{\"line\": {\"colorbar\": {\"outlinewidth\": 0, \"ticks\": \"\"}}, \"marker\": {\"colorbar\": {\"outlinewidth\": 0, \"ticks\": \"\"}}, \"type\": \"scatter3d\"}], \"scattercarpet\": [{\"marker\": {\"colorbar\": {\"outlinewidth\": 0, \"ticks\": \"\"}}, \"type\": \"scattercarpet\"}], \"scattergeo\": [{\"marker\": {\"colorbar\": {\"outlinewidth\": 0, \"ticks\": \"\"}}, \"type\": \"scattergeo\"}], \"scattergl\": [{\"marker\": {\"colorbar\": {\"outlinewidth\": 0, \"ticks\": \"\"}}, \"type\": \"scattergl\"}], \"scattermapbox\": [{\"marker\": {\"colorbar\": {\"outlinewidth\": 0, \"ticks\": \"\"}}, \"type\": \"scattermapbox\"}], \"scatterpolar\": [{\"marker\": {\"colorbar\": {\"outlinewidth\": 0, \"ticks\": \"\"}}, \"type\": \"scatterpolar\"}], \"scatterpolargl\": [{\"marker\": {\"colorbar\": {\"outlinewidth\": 0, \"ticks\": \"\"}}, \"type\": \"scatterpolargl\"}], \"scatterternary\": [{\"marker\": {\"colorbar\": {\"outlinewidth\": 0, \"ticks\": \"\"}}, \"type\": \"scatterternary\"}], \"surface\": [{\"colorbar\": {\"outlinewidth\": 0, \"ticks\": \"\"}, \"colorscale\": [[0.0, \"#0d0887\"], [0.1111111111111111, \"#46039f\"], [0.2222222222222222, \"#7201a8\"], [0.3333333333333333, \"#9c179e\"], [0.4444444444444444, \"#bd3786\"], [0.5555555555555556, \"#d8576b\"], [0.6666666666666666, \"#ed7953\"], [0.7777777777777778, \"#fb9f3a\"], [0.8888888888888888, \"#fdca26\"], [1.0, \"#f0f921\"]], \"type\": \"surface\"}], \"table\": [{\"cells\": {\"fill\": {\"color\": \"#EBF0F8\"}, \"line\": {\"color\": \"white\"}}, \"header\": {\"fill\": {\"color\": \"#C8D4E3\"}, \"line\": {\"color\": \"white\"}}, \"type\": \"table\"}]}, \"layout\": {\"annotationdefaults\": {\"arrowcolor\": \"#2a3f5f\", \"arrowhead\": 0, \"arrowwidth\": 1}, \"autotypenumbers\": \"strict\", \"coloraxis\": {\"colorbar\": {\"outlinewidth\": 0, \"ticks\": \"\"}}, \"colorscale\": {\"diverging\": [[0, \"#8e0152\"], [0.1, \"#c51b7d\"], [0.2, \"#de77ae\"], [0.3, \"#f1b6da\"], [0.4, \"#fde0ef\"], [0.5, \"#f7f7f7\"], [0.6, \"#e6f5d0\"], [0.7, \"#b8e186\"], [0.8, \"#7fbc41\"], [0.9, \"#4d9221\"], [1, \"#276419\"]], \"sequential\": [[0.0, \"#0d0887\"], [0.1111111111111111, \"#46039f\"], [0.2222222222222222, \"#7201a8\"], [0.3333333333333333, \"#9c179e\"], [0.4444444444444444, \"#bd3786\"], [0.5555555555555556, \"#d8576b\"], [0.6666666666666666, \"#ed7953\"], [0.7777777777777778, \"#fb9f3a\"], [0.8888888888888888, \"#fdca26\"], [1.0, \"#f0f921\"]], \"sequentialminus\": [[0.0, \"#0d0887\"], [0.1111111111111111, \"#46039f\"], [0.2222222222222222, \"#7201a8\"], [0.3333333333333333, \"#9c179e\"], [0.4444444444444444, \"#bd3786\"], [0.5555555555555556, \"#d8576b\"], [0.6666666666666666, \"#ed7953\"], [0.7777777777777778, \"#fb9f3a\"], [0.8888888888888888, \"#fdca26\"], [1.0, \"#f0f921\"]]}, \"colorway\": [\"#636efa\", \"#EF553B\", \"#00cc96\", \"#ab63fa\", \"#FFA15A\", \"#19d3f3\", \"#FF6692\", \"#B6E880\", \"#FF97FF\", \"#FECB52\"], \"font\": {\"color\": \"#2a3f5f\"}, \"geo\": {\"bgcolor\": \"white\", \"lakecolor\": \"white\", \"landcolor\": \"#E5ECF6\", \"showlakes\": true, \"showland\": true, \"subunitcolor\": \"white\"}, \"hoverlabel\": {\"align\": \"left\"}, \"hovermode\": \"closest\", \"mapbox\": {\"style\": \"light\"}, \"paper_bgcolor\": \"white\", \"plot_bgcolor\": \"#E5ECF6\", \"polar\": {\"angularaxis\": {\"gridcolor\": \"white\", \"linecolor\": \"white\", \"ticks\": \"\"}, \"bgcolor\": \"#E5ECF6\", \"radialaxis\": {\"gridcolor\": \"white\", \"linecolor\": \"white\", \"ticks\": \"\"}}, \"scene\": {\"xaxis\": {\"backgroundcolor\": \"#E5ECF6\", \"gridcolor\": \"white\", \"gridwidth\": 2, \"linecolor\": \"white\", \"showbackground\": true, \"ticks\": \"\", \"zerolinecolor\": \"white\"}, \"yaxis\": {\"backgroundcolor\": \"#E5ECF6\", \"gridcolor\": \"white\", \"gridwidth\": 2, \"linecolor\": \"white\", \"showbackground\": true, \"ticks\": \"\", \"zerolinecolor\": \"white\"}, \"zaxis\": {\"backgroundcolor\": \"#E5ECF6\", \"gridcolor\": \"white\", \"gridwidth\": 2, \"linecolor\": \"white\", \"showbackground\": true, \"ticks\": \"\", \"zerolinecolor\": \"white\"}}, \"shapedefaults\": {\"line\": {\"color\": \"#2a3f5f\"}}, \"ternary\": {\"aaxis\": {\"gridcolor\": \"white\", \"linecolor\": \"white\", \"ticks\": \"\"}, \"baxis\": {\"gridcolor\": \"white\", \"linecolor\": \"white\", \"ticks\": \"\"}, \"bgcolor\": \"#E5ECF6\", \"caxis\": {\"gridcolor\": \"white\", \"linecolor\": \"white\", \"ticks\": \"\"}}, \"title\": {\"x\": 0.05}, \"xaxis\": {\"automargin\": true, \"gridcolor\": \"white\", \"linecolor\": \"white\", \"ticks\": \"\", \"title\": {\"standoff\": 15}, \"zerolinecolor\": \"white\", \"zerolinewidth\": 2}, \"yaxis\": {\"automargin\": true, \"gridcolor\": \"white\", \"linecolor\": \"white\", \"ticks\": \"\", \"title\": {\"standoff\": 15}, \"zerolinecolor\": \"white\", \"zerolinewidth\": 2}}}, \"title\": {\"text\": \"Countries using each vaccine (different colors for each vaccine)\"}},                        {\"responsive\": true}                    ).then(function(){\n",
       "                            \n",
       "var gd = document.getElementById('88fa795b-da6b-4346-81ab-ef6718a2fec6');\n",
       "var x = new MutationObserver(function (mutations, observer) {{\n",
       "        var display = window.getComputedStyle(gd).display;\n",
       "        if (!display || display === 'none') {{\n",
       "            console.log([gd, 'removed!']);\n",
       "            Plotly.purge(gd);\n",
       "            observer.disconnect();\n",
       "        }}\n",
       "}});\n",
       "\n",
       "// Listen for the removal of the full notebook cells\n",
       "var notebookContainer = gd.closest('#notebook-container');\n",
       "if (notebookContainer) {{\n",
       "    x.observe(notebookContainer, {childList: true});\n",
       "}}\n",
       "\n",
       "// Listen for the clearing of the current output cell\n",
       "var outputEl = gd.closest('.output');\n",
       "if (outputEl) {{\n",
       "    x.observe(outputEl, {childList: true});\n",
       "}}\n",
       "\n",
       "                        })                };                });            </script>        </div>"
      ]
     },
     "metadata": {},
     "output_type": "display_data"
    }
   ],
   "source": [
    "fig = px.choropleth(locations=country_vac['country'], \n",
    "                    locationmode=\"country names\",\n",
    "                    color=country_vac['vaccines'],\n",
    "                    title=\"Countries using each vaccine (different colors for each vaccine)\",\n",
    "                    height = 800,\n",
    "                    projection=\"mercator\"\n",
    "                   )\n",
    "fig.update_layout({'legend_orientation':'v'})\n",
    "fig.update_layout({'legend_title':'Vaccine scheme'})\n",
    "fig.show()"
   ]
  },
  {
   "cell_type": "code",
   "execution_count": 17,
   "metadata": {},
   "outputs": [
    {
     "data": {
      "application/vnd.plotly.v1+json": {
       "config": {
        "plotlyServerURL": "https://plot.ly"
       },
       "data": [
        {
         "coloraxis": "coloraxis",
         "geo": "geo",
         "hovertemplate": "locations=%{location}<br>color=%{z}<extra></extra>",
         "locationmode": "country names",
         "locations": [
          "Afghanistan",
          "Albania",
          "Algeria",
          "Andorra",
          "Angola",
          "Anguilla",
          "Antigua and Barbuda",
          "Argentina",
          "Australia",
          "Austria",
          "Azerbaijan",
          "Bahamas",
          "Bahrain",
          "Bangladesh",
          "Barbados",
          "Belarus",
          "Belgium",
          "Belize",
          "Bermuda",
          "Bolivia",
          "Brazil",
          "Bulgaria",
          "Cambodia",
          "Canada",
          "Cayman Islands",
          "Chile",
          "China",
          "Colombia",
          "Costa Rica",
          "Cote d'Ivoire",
          "Croatia",
          "Cyprus",
          "Czechia",
          "Denmark",
          "Dominica",
          "Dominican Republic",
          "Ecuador",
          "Egypt",
          "El Salvador",
          "England",
          "Equatorial Guinea",
          "Estonia",
          "Faeroe Islands",
          "Falkland Islands",
          "Finland",
          "France",
          "Germany",
          "Ghana",
          "Gibraltar",
          "Greece",
          "Greenland",
          "Grenada",
          "Guatemala",
          "Guernsey",
          "Guinea",
          "Guyana",
          "Honduras",
          "Hong Kong",
          "Hungary",
          "Iceland",
          "India",
          "Indonesia",
          "Iran",
          "Ireland",
          "Isle of Man",
          "Israel",
          "Italy",
          "Jamaica",
          "Japan",
          "Jersey",
          "Jordan",
          "Kazakhstan",
          "Kenya",
          "Kuwait",
          "Laos",
          "Latvia",
          "Lebanon",
          "Liechtenstein",
          "Lithuania",
          "Luxembourg",
          "Macao",
          "Malawi",
          "Malaysia",
          "Maldives",
          "Malta",
          "Mauritius",
          "Mexico",
          "Moldova",
          "Monaco",
          "Mongolia",
          "Montenegro",
          "Montserrat",
          "Morocco",
          "Mozambique",
          "Myanmar",
          "Namibia",
          "Nepal",
          "Netherlands",
          "New Zealand",
          "Nigeria",
          "North Macedonia",
          "Northern Cyprus",
          "Northern Ireland",
          "Norway",
          "Oman",
          "Pakistan",
          "Panama",
          "Paraguay",
          "Peru",
          "Philippines",
          "Poland",
          "Portugal",
          "Qatar",
          "Romania",
          "Russia",
          "Rwanda",
          "Saint Helena",
          "Saint Kitts and Nevis",
          "Saint Lucia",
          "Saint Vincent and the Grenadines",
          "San Marino",
          "Saudi Arabia",
          "Scotland",
          "Senegal",
          "Serbia",
          "Seychelles",
          "Sierra Leone",
          "Singapore",
          "Slovakia",
          "Slovenia",
          "South Africa",
          "South Korea",
          "Spain",
          "Sri Lanka",
          "Suriname",
          "Sweden",
          "Switzerland",
          "Taiwan",
          "Thailand",
          "Togo",
          "Trinidad and Tobago",
          "Tunisia",
          "Turkey",
          "Turks and Caicos Islands",
          "Uganda",
          "Ukraine",
          "United Arab Emirates",
          "United Kingdom",
          "United States",
          "Uruguay",
          "Venezuela",
          "Vietnam",
          "Wales",
          "Zimbabwe"
         ],
         "name": "",
         "type": "choropleth",
         "z": [
          54000,
          64075,
          75000,
          9288,
          87022,
          5348,
          25677,
          3570460,
          507000,
          1489710,
          510420,
          110,
          724001,
          5139456,
          62765,
          30000,
          1698809,
          18182,
          34204,
          263144,
          17519083,
          434158,
          296149,
          4967497,
          44061,
          9645015,
          102417000,
          1596288,
          348037,
          31104,
          416745,
          129438,
          1560919,
          1032419,
          13565,
          800000,
          191179,
          1315,
          49000,
          27761724,
          6565,
          252278,
          9959,
          1732,
          921123,
          10185810,
          12363439,
          420000,
          57646,
          1604238,
          5130,
          8606,
          91918,
          29383,
          25263,
          15524,
          43073,
          449200,
          2589469,
          60366,
          60269782,
          10425690,
          124193,
          732678,
          33336,
          9927583,
          9210893,
          16096,
          822869,
          52265,
          320140,
          109995,
          64100,
          360000,
          40732,
          126292,
          181127,
          4992,
          474961,
          82653,
          44908,
          90107,
          536681,
          227696,
          171873,
          3843,
          6724789,
          33885,
          18081,
          276068,
          16451,
          932,
          7634475,
          46439,
          380000,
          152,
          1600000,
          2097980,
          41500,
          277458,
          5300,
          97969,
          839609,
          865800,
          129198,
          350000,
          352876,
          28830,
          790790,
          508332,
          5755551,
          1536184,
          721236,
          2799895,
          10600000,
          348926,
          3107,
          7580,
          20247,
          9383,
          10308,
          3995150,
          2653521,
          225309,
          2282876,
          96523,
          10673,
          1109000,
          871081,
          295780,
          231605,
          799090,
          7067371,
          884164,
          22377,
          1482153,
          1342748,
          9232,
          102050,
          42092,
          991,
          38853,
          14652659,
          11283,
          46664,
          192264,
          7959682,
          33020952,
          140180735,
          509969,
          12194,
          44000,
          1766098,
          65466
         ]
        }
       ],
       "layout": {
        "coloraxis": {
         "colorbar": {
          "title": {
           "text": "color"
          }
         },
         "colorscale": [
          [
           0,
           "#0d0887"
          ],
          [
           0.1111111111111111,
           "#46039f"
          ],
          [
           0.2222222222222222,
           "#7201a8"
          ],
          [
           0.3333333333333333,
           "#9c179e"
          ],
          [
           0.4444444444444444,
           "#bd3786"
          ],
          [
           0.5555555555555556,
           "#d8576b"
          ],
          [
           0.6666666666666666,
           "#ed7953"
          ],
          [
           0.7777777777777778,
           "#fb9f3a"
          ],
          [
           0.8888888888888888,
           "#fdca26"
          ],
          [
           1,
           "#f0f921"
          ]
         ]
        },
        "geo": {
         "center": {},
         "domain": {
          "x": [
           0,
           1
          ],
          "y": [
           0,
           1
          ]
         },
         "projection": {
          "type": "mercator"
         }
        },
        "height": 800,
        "legend": {
         "tracegroupgap": 0
        },
        "template": {
         "data": {
          "bar": [
           {
            "error_x": {
             "color": "#2a3f5f"
            },
            "error_y": {
             "color": "#2a3f5f"
            },
            "marker": {
             "line": {
              "color": "#E5ECF6",
              "width": 0.5
             }
            },
            "type": "bar"
           }
          ],
          "barpolar": [
           {
            "marker": {
             "line": {
              "color": "#E5ECF6",
              "width": 0.5
             }
            },
            "type": "barpolar"
           }
          ],
          "carpet": [
           {
            "aaxis": {
             "endlinecolor": "#2a3f5f",
             "gridcolor": "white",
             "linecolor": "white",
             "minorgridcolor": "white",
             "startlinecolor": "#2a3f5f"
            },
            "baxis": {
             "endlinecolor": "#2a3f5f",
             "gridcolor": "white",
             "linecolor": "white",
             "minorgridcolor": "white",
             "startlinecolor": "#2a3f5f"
            },
            "type": "carpet"
           }
          ],
          "choropleth": [
           {
            "colorbar": {
             "outlinewidth": 0,
             "ticks": ""
            },
            "type": "choropleth"
           }
          ],
          "contour": [
           {
            "colorbar": {
             "outlinewidth": 0,
             "ticks": ""
            },
            "colorscale": [
             [
              0,
              "#0d0887"
             ],
             [
              0.1111111111111111,
              "#46039f"
             ],
             [
              0.2222222222222222,
              "#7201a8"
             ],
             [
              0.3333333333333333,
              "#9c179e"
             ],
             [
              0.4444444444444444,
              "#bd3786"
             ],
             [
              0.5555555555555556,
              "#d8576b"
             ],
             [
              0.6666666666666666,
              "#ed7953"
             ],
             [
              0.7777777777777778,
              "#fb9f3a"
             ],
             [
              0.8888888888888888,
              "#fdca26"
             ],
             [
              1,
              "#f0f921"
             ]
            ],
            "type": "contour"
           }
          ],
          "contourcarpet": [
           {
            "colorbar": {
             "outlinewidth": 0,
             "ticks": ""
            },
            "type": "contourcarpet"
           }
          ],
          "heatmap": [
           {
            "colorbar": {
             "outlinewidth": 0,
             "ticks": ""
            },
            "colorscale": [
             [
              0,
              "#0d0887"
             ],
             [
              0.1111111111111111,
              "#46039f"
             ],
             [
              0.2222222222222222,
              "#7201a8"
             ],
             [
              0.3333333333333333,
              "#9c179e"
             ],
             [
              0.4444444444444444,
              "#bd3786"
             ],
             [
              0.5555555555555556,
              "#d8576b"
             ],
             [
              0.6666666666666666,
              "#ed7953"
             ],
             [
              0.7777777777777778,
              "#fb9f3a"
             ],
             [
              0.8888888888888888,
              "#fdca26"
             ],
             [
              1,
              "#f0f921"
             ]
            ],
            "type": "heatmap"
           }
          ],
          "heatmapgl": [
           {
            "colorbar": {
             "outlinewidth": 0,
             "ticks": ""
            },
            "colorscale": [
             [
              0,
              "#0d0887"
             ],
             [
              0.1111111111111111,
              "#46039f"
             ],
             [
              0.2222222222222222,
              "#7201a8"
             ],
             [
              0.3333333333333333,
              "#9c179e"
             ],
             [
              0.4444444444444444,
              "#bd3786"
             ],
             [
              0.5555555555555556,
              "#d8576b"
             ],
             [
              0.6666666666666666,
              "#ed7953"
             ],
             [
              0.7777777777777778,
              "#fb9f3a"
             ],
             [
              0.8888888888888888,
              "#fdca26"
             ],
             [
              1,
              "#f0f921"
             ]
            ],
            "type": "heatmapgl"
           }
          ],
          "histogram": [
           {
            "marker": {
             "colorbar": {
              "outlinewidth": 0,
              "ticks": ""
             }
            },
            "type": "histogram"
           }
          ],
          "histogram2d": [
           {
            "colorbar": {
             "outlinewidth": 0,
             "ticks": ""
            },
            "colorscale": [
             [
              0,
              "#0d0887"
             ],
             [
              0.1111111111111111,
              "#46039f"
             ],
             [
              0.2222222222222222,
              "#7201a8"
             ],
             [
              0.3333333333333333,
              "#9c179e"
             ],
             [
              0.4444444444444444,
              "#bd3786"
             ],
             [
              0.5555555555555556,
              "#d8576b"
             ],
             [
              0.6666666666666666,
              "#ed7953"
             ],
             [
              0.7777777777777778,
              "#fb9f3a"
             ],
             [
              0.8888888888888888,
              "#fdca26"
             ],
             [
              1,
              "#f0f921"
             ]
            ],
            "type": "histogram2d"
           }
          ],
          "histogram2dcontour": [
           {
            "colorbar": {
             "outlinewidth": 0,
             "ticks": ""
            },
            "colorscale": [
             [
              0,
              "#0d0887"
             ],
             [
              0.1111111111111111,
              "#46039f"
             ],
             [
              0.2222222222222222,
              "#7201a8"
             ],
             [
              0.3333333333333333,
              "#9c179e"
             ],
             [
              0.4444444444444444,
              "#bd3786"
             ],
             [
              0.5555555555555556,
              "#d8576b"
             ],
             [
              0.6666666666666666,
              "#ed7953"
             ],
             [
              0.7777777777777778,
              "#fb9f3a"
             ],
             [
              0.8888888888888888,
              "#fdca26"
             ],
             [
              1,
              "#f0f921"
             ]
            ],
            "type": "histogram2dcontour"
           }
          ],
          "mesh3d": [
           {
            "colorbar": {
             "outlinewidth": 0,
             "ticks": ""
            },
            "type": "mesh3d"
           }
          ],
          "parcoords": [
           {
            "line": {
             "colorbar": {
              "outlinewidth": 0,
              "ticks": ""
             }
            },
            "type": "parcoords"
           }
          ],
          "pie": [
           {
            "automargin": true,
            "type": "pie"
           }
          ],
          "scatter": [
           {
            "marker": {
             "colorbar": {
              "outlinewidth": 0,
              "ticks": ""
             }
            },
            "type": "scatter"
           }
          ],
          "scatter3d": [
           {
            "line": {
             "colorbar": {
              "outlinewidth": 0,
              "ticks": ""
             }
            },
            "marker": {
             "colorbar": {
              "outlinewidth": 0,
              "ticks": ""
             }
            },
            "type": "scatter3d"
           }
          ],
          "scattercarpet": [
           {
            "marker": {
             "colorbar": {
              "outlinewidth": 0,
              "ticks": ""
             }
            },
            "type": "scattercarpet"
           }
          ],
          "scattergeo": [
           {
            "marker": {
             "colorbar": {
              "outlinewidth": 0,
              "ticks": ""
             }
            },
            "type": "scattergeo"
           }
          ],
          "scattergl": [
           {
            "marker": {
             "colorbar": {
              "outlinewidth": 0,
              "ticks": ""
             }
            },
            "type": "scattergl"
           }
          ],
          "scattermapbox": [
           {
            "marker": {
             "colorbar": {
              "outlinewidth": 0,
              "ticks": ""
             }
            },
            "type": "scattermapbox"
           }
          ],
          "scatterpolar": [
           {
            "marker": {
             "colorbar": {
              "outlinewidth": 0,
              "ticks": ""
             }
            },
            "type": "scatterpolar"
           }
          ],
          "scatterpolargl": [
           {
            "marker": {
             "colorbar": {
              "outlinewidth": 0,
              "ticks": ""
             }
            },
            "type": "scatterpolargl"
           }
          ],
          "scatterternary": [
           {
            "marker": {
             "colorbar": {
              "outlinewidth": 0,
              "ticks": ""
             }
            },
            "type": "scatterternary"
           }
          ],
          "surface": [
           {
            "colorbar": {
             "outlinewidth": 0,
             "ticks": ""
            },
            "colorscale": [
             [
              0,
              "#0d0887"
             ],
             [
              0.1111111111111111,
              "#46039f"
             ],
             [
              0.2222222222222222,
              "#7201a8"
             ],
             [
              0.3333333333333333,
              "#9c179e"
             ],
             [
              0.4444444444444444,
              "#bd3786"
             ],
             [
              0.5555555555555556,
              "#d8576b"
             ],
             [
              0.6666666666666666,
              "#ed7953"
             ],
             [
              0.7777777777777778,
              "#fb9f3a"
             ],
             [
              0.8888888888888888,
              "#fdca26"
             ],
             [
              1,
              "#f0f921"
             ]
            ],
            "type": "surface"
           }
          ],
          "table": [
           {
            "cells": {
             "fill": {
              "color": "#EBF0F8"
             },
             "line": {
              "color": "white"
             }
            },
            "header": {
             "fill": {
              "color": "#C8D4E3"
             },
             "line": {
              "color": "white"
             }
            },
            "type": "table"
           }
          ]
         },
         "layout": {
          "annotationdefaults": {
           "arrowcolor": "#2a3f5f",
           "arrowhead": 0,
           "arrowwidth": 1
          },
          "autotypenumbers": "strict",
          "coloraxis": {
           "colorbar": {
            "outlinewidth": 0,
            "ticks": ""
           }
          },
          "colorscale": {
           "diverging": [
            [
             0,
             "#8e0152"
            ],
            [
             0.1,
             "#c51b7d"
            ],
            [
             0.2,
             "#de77ae"
            ],
            [
             0.3,
             "#f1b6da"
            ],
            [
             0.4,
             "#fde0ef"
            ],
            [
             0.5,
             "#f7f7f7"
            ],
            [
             0.6,
             "#e6f5d0"
            ],
            [
             0.7,
             "#b8e186"
            ],
            [
             0.8,
             "#7fbc41"
            ],
            [
             0.9,
             "#4d9221"
            ],
            [
             1,
             "#276419"
            ]
           ],
           "sequential": [
            [
             0,
             "#0d0887"
            ],
            [
             0.1111111111111111,
             "#46039f"
            ],
            [
             0.2222222222222222,
             "#7201a8"
            ],
            [
             0.3333333333333333,
             "#9c179e"
            ],
            [
             0.4444444444444444,
             "#bd3786"
            ],
            [
             0.5555555555555556,
             "#d8576b"
            ],
            [
             0.6666666666666666,
             "#ed7953"
            ],
            [
             0.7777777777777778,
             "#fb9f3a"
            ],
            [
             0.8888888888888888,
             "#fdca26"
            ],
            [
             1,
             "#f0f921"
            ]
           ],
           "sequentialminus": [
            [
             0,
             "#0d0887"
            ],
            [
             0.1111111111111111,
             "#46039f"
            ],
            [
             0.2222222222222222,
             "#7201a8"
            ],
            [
             0.3333333333333333,
             "#9c179e"
            ],
            [
             0.4444444444444444,
             "#bd3786"
            ],
            [
             0.5555555555555556,
             "#d8576b"
            ],
            [
             0.6666666666666666,
             "#ed7953"
            ],
            [
             0.7777777777777778,
             "#fb9f3a"
            ],
            [
             0.8888888888888888,
             "#fdca26"
            ],
            [
             1,
             "#f0f921"
            ]
           ]
          },
          "colorway": [
           "#636efa",
           "#EF553B",
           "#00cc96",
           "#ab63fa",
           "#FFA15A",
           "#19d3f3",
           "#FF6692",
           "#B6E880",
           "#FF97FF",
           "#FECB52"
          ],
          "font": {
           "color": "#2a3f5f"
          },
          "geo": {
           "bgcolor": "white",
           "lakecolor": "white",
           "landcolor": "#E5ECF6",
           "showlakes": true,
           "showland": true,
           "subunitcolor": "white"
          },
          "hoverlabel": {
           "align": "left"
          },
          "hovermode": "closest",
          "mapbox": {
           "style": "light"
          },
          "paper_bgcolor": "white",
          "plot_bgcolor": "#E5ECF6",
          "polar": {
           "angularaxis": {
            "gridcolor": "white",
            "linecolor": "white",
            "ticks": ""
           },
           "bgcolor": "#E5ECF6",
           "radialaxis": {
            "gridcolor": "white",
            "linecolor": "white",
            "ticks": ""
           }
          },
          "scene": {
           "xaxis": {
            "backgroundcolor": "#E5ECF6",
            "gridcolor": "white",
            "gridwidth": 2,
            "linecolor": "white",
            "showbackground": true,
            "ticks": "",
            "zerolinecolor": "white"
           },
           "yaxis": {
            "backgroundcolor": "#E5ECF6",
            "gridcolor": "white",
            "gridwidth": 2,
            "linecolor": "white",
            "showbackground": true,
            "ticks": "",
            "zerolinecolor": "white"
           },
           "zaxis": {
            "backgroundcolor": "#E5ECF6",
            "gridcolor": "white",
            "gridwidth": 2,
            "linecolor": "white",
            "showbackground": true,
            "ticks": "",
            "zerolinecolor": "white"
           }
          },
          "shapedefaults": {
           "line": {
            "color": "#2a3f5f"
           }
          },
          "ternary": {
           "aaxis": {
            "gridcolor": "white",
            "linecolor": "white",
            "ticks": ""
           },
           "baxis": {
            "gridcolor": "white",
            "linecolor": "white",
            "ticks": ""
           },
           "bgcolor": "#E5ECF6",
           "caxis": {
            "gridcolor": "white",
            "linecolor": "white",
            "ticks": ""
           }
          },
          "title": {
           "x": 0.05
          },
          "xaxis": {
           "automargin": true,
           "gridcolor": "white",
           "linecolor": "white",
           "ticks": "",
           "title": {
            "standoff": 15
           },
           "zerolinecolor": "white",
           "zerolinewidth": 2
          },
          "yaxis": {
           "automargin": true,
           "gridcolor": "white",
           "linecolor": "white",
           "ticks": "",
           "title": {
            "standoff": 15
           },
           "zerolinecolor": "white",
           "zerolinewidth": 2
          }
         }
        },
        "title": {
         "text": "Countries for Total Vaccination"
        }
       }
      },
      "text/html": [
       "<div>                            <div id=\"2619fa68-5171-46eb-8b4f-4b806e030e58\" class=\"plotly-graph-div\" style=\"height:800px; width:100%;\"></div>            <script type=\"text/javascript\">                require([\"plotly\"], function(Plotly) {                    window.PLOTLYENV=window.PLOTLYENV || {};                                    if (document.getElementById(\"2619fa68-5171-46eb-8b4f-4b806e030e58\")) {                    Plotly.newPlot(                        \"2619fa68-5171-46eb-8b4f-4b806e030e58\",                        [{\"coloraxis\": \"coloraxis\", \"geo\": \"geo\", \"hovertemplate\": \"locations=%{location}<br>color=%{z}<extra></extra>\", \"locationmode\": \"country names\", \"locations\": [\"Afghanistan\", \"Albania\", \"Algeria\", \"Andorra\", \"Angola\", \"Anguilla\", \"Antigua and Barbuda\", \"Argentina\", \"Australia\", \"Austria\", \"Azerbaijan\", \"Bahamas\", \"Bahrain\", \"Bangladesh\", \"Barbados\", \"Belarus\", \"Belgium\", \"Belize\", \"Bermuda\", \"Bolivia\", \"Brazil\", \"Bulgaria\", \"Cambodia\", \"Canada\", \"Cayman Islands\", \"Chile\", \"China\", \"Colombia\", \"Costa Rica\", \"Cote d'Ivoire\", \"Croatia\", \"Cyprus\", \"Czechia\", \"Denmark\", \"Dominica\", \"Dominican Republic\", \"Ecuador\", \"Egypt\", \"El Salvador\", \"England\", \"Equatorial Guinea\", \"Estonia\", \"Faeroe Islands\", \"Falkland Islands\", \"Finland\", \"France\", \"Germany\", \"Ghana\", \"Gibraltar\", \"Greece\", \"Greenland\", \"Grenada\", \"Guatemala\", \"Guernsey\", \"Guinea\", \"Guyana\", \"Honduras\", \"Hong Kong\", \"Hungary\", \"Iceland\", \"India\", \"Indonesia\", \"Iran\", \"Ireland\", \"Isle of Man\", \"Israel\", \"Italy\", \"Jamaica\", \"Japan\", \"Jersey\", \"Jordan\", \"Kazakhstan\", \"Kenya\", \"Kuwait\", \"Laos\", \"Latvia\", \"Lebanon\", \"Liechtenstein\", \"Lithuania\", \"Luxembourg\", \"Macao\", \"Malawi\", \"Malaysia\", \"Maldives\", \"Malta\", \"Mauritius\", \"Mexico\", \"Moldova\", \"Monaco\", \"Mongolia\", \"Montenegro\", \"Montserrat\", \"Morocco\", \"Mozambique\", \"Myanmar\", \"Namibia\", \"Nepal\", \"Netherlands\", \"New Zealand\", \"Nigeria\", \"North Macedonia\", \"Northern Cyprus\", \"Northern Ireland\", \"Norway\", \"Oman\", \"Pakistan\", \"Panama\", \"Paraguay\", \"Peru\", \"Philippines\", \"Poland\", \"Portugal\", \"Qatar\", \"Romania\", \"Russia\", \"Rwanda\", \"Saint Helena\", \"Saint Kitts and Nevis\", \"Saint Lucia\", \"Saint Vincent and the Grenadines\", \"San Marino\", \"Saudi Arabia\", \"Scotland\", \"Senegal\", \"Serbia\", \"Seychelles\", \"Sierra Leone\", \"Singapore\", \"Slovakia\", \"Slovenia\", \"South Africa\", \"South Korea\", \"Spain\", \"Sri Lanka\", \"Suriname\", \"Sweden\", \"Switzerland\", \"Taiwan\", \"Thailand\", \"Togo\", \"Trinidad and Tobago\", \"Tunisia\", \"Turkey\", \"Turks and Caicos Islands\", \"Uganda\", \"Ukraine\", \"United Arab Emirates\", \"United Kingdom\", \"United States\", \"Uruguay\", \"Venezuela\", \"Vietnam\", \"Wales\", \"Zimbabwe\"], \"name\": \"\", \"type\": \"choropleth\", \"z\": [54000.0, 64075.0, 75000.0, 9288.0, 87022.0, 5348.0, 25677.0, 3570460.0, 507000.0, 1489710.0, 510420.0, 110.0, 724001.0, 5139456.0, 62765.0, 30000.0, 1698809.0, 18182.0, 34204.0, 263144.0, 17519083.0, 434158.0, 296149.0, 4967497.0, 44061.0, 9645015.0, 102417000.0, 1596288.0, 348037.0, 31104.0, 416745.0, 129438.0, 1560919.0, 1032419.0, 13565.0, 800000.0, 191179.0, 1315.0, 49000.0, 27761724.0, 6565.0, 252278.0, 9959.0, 1732.0, 921123.0, 10185810.0, 12363439.0, 420000.0, 57646.0, 1604238.0, 5130.0, 8606.0, 91918.0, 29383.0, 25263.0, 15524.0, 43073.0, 449200.0, 2589469.0, 60366.0, 60269782.0, 10425690.0, 124193.0, 732678.0, 33336.0, 9927583.0, 9210893.0, 16096.0, 822869.0, 52265.0, 320140.0, 109995.0, 64100.0, 360000.0, 40732.0, 126292.0, 181127.0, 4992.0, 474961.0, 82653.0, 44908.0, 90107.0, 536681.0, 227696.0, 171873.0, 3843.0, 6724789.0, 33885.0, 18081.0, 276068.0, 16451.0, 932.0, 7634475.0, 46439.0, 380000.0, 152.0, 1600000.0, 2097980.0, 41500.0, 277458.0, 5300.0, 97969.0, 839609.0, 865800.0, 129198.0, 350000.0, 352876.0, 28830.0, 790790.0, 508332.0, 5755551.0, 1536184.0, 721236.0, 2799895.0, 10600000.0, 348926.0, 3107.0, 7580.0, 20247.0, 9383.0, 10308.0, 3995150.0, 2653521.0, 225309.0, 2282876.0, 96523.0, 10673.0, 1109000.0, 871081.0, 295780.0, 231605.0, 799090.0, 7067371.0, 884164.0, 22377.0, 1482153.0, 1342748.0, 9232.0, 102050.0, 42092.0, 991.0, 38853.0, 14652659.0, 11283.0, 46664.0, 192264.0, 7959682.0, 33020952.0, 140180735.0, 509969.0, 12194.0, 44000.0, 1766098.0, 65466.0]}],                        {\"coloraxis\": {\"colorbar\": {\"title\": {\"text\": \"color\"}}, \"colorscale\": [[0.0, \"#0d0887\"], [0.1111111111111111, \"#46039f\"], [0.2222222222222222, \"#7201a8\"], [0.3333333333333333, \"#9c179e\"], [0.4444444444444444, \"#bd3786\"], [0.5555555555555556, \"#d8576b\"], [0.6666666666666666, \"#ed7953\"], [0.7777777777777778, \"#fb9f3a\"], [0.8888888888888888, \"#fdca26\"], [1.0, \"#f0f921\"]]}, \"geo\": {\"center\": {}, \"domain\": {\"x\": [0.0, 1.0], \"y\": [0.0, 1.0]}, \"projection\": {\"type\": \"mercator\"}}, \"height\": 800, \"legend\": {\"tracegroupgap\": 0}, \"template\": {\"data\": {\"bar\": [{\"error_x\": {\"color\": \"#2a3f5f\"}, \"error_y\": {\"color\": \"#2a3f5f\"}, \"marker\": {\"line\": {\"color\": \"#E5ECF6\", \"width\": 0.5}}, \"type\": \"bar\"}], \"barpolar\": [{\"marker\": {\"line\": {\"color\": \"#E5ECF6\", \"width\": 0.5}}, \"type\": \"barpolar\"}], \"carpet\": [{\"aaxis\": {\"endlinecolor\": \"#2a3f5f\", \"gridcolor\": \"white\", \"linecolor\": \"white\", \"minorgridcolor\": \"white\", \"startlinecolor\": \"#2a3f5f\"}, \"baxis\": {\"endlinecolor\": \"#2a3f5f\", \"gridcolor\": \"white\", \"linecolor\": \"white\", \"minorgridcolor\": \"white\", \"startlinecolor\": \"#2a3f5f\"}, \"type\": \"carpet\"}], \"choropleth\": [{\"colorbar\": {\"outlinewidth\": 0, \"ticks\": \"\"}, \"type\": \"choropleth\"}], \"contour\": [{\"colorbar\": {\"outlinewidth\": 0, \"ticks\": \"\"}, \"colorscale\": [[0.0, \"#0d0887\"], [0.1111111111111111, \"#46039f\"], [0.2222222222222222, \"#7201a8\"], [0.3333333333333333, \"#9c179e\"], [0.4444444444444444, \"#bd3786\"], [0.5555555555555556, \"#d8576b\"], [0.6666666666666666, \"#ed7953\"], [0.7777777777777778, \"#fb9f3a\"], [0.8888888888888888, \"#fdca26\"], [1.0, \"#f0f921\"]], \"type\": \"contour\"}], \"contourcarpet\": [{\"colorbar\": {\"outlinewidth\": 0, \"ticks\": \"\"}, \"type\": \"contourcarpet\"}], \"heatmap\": [{\"colorbar\": {\"outlinewidth\": 0, \"ticks\": \"\"}, \"colorscale\": [[0.0, \"#0d0887\"], [0.1111111111111111, \"#46039f\"], [0.2222222222222222, \"#7201a8\"], [0.3333333333333333, \"#9c179e\"], [0.4444444444444444, \"#bd3786\"], [0.5555555555555556, \"#d8576b\"], [0.6666666666666666, \"#ed7953\"], [0.7777777777777778, \"#fb9f3a\"], [0.8888888888888888, \"#fdca26\"], [1.0, \"#f0f921\"]], \"type\": \"heatmap\"}], \"heatmapgl\": [{\"colorbar\": {\"outlinewidth\": 0, \"ticks\": \"\"}, \"colorscale\": [[0.0, \"#0d0887\"], [0.1111111111111111, \"#46039f\"], [0.2222222222222222, \"#7201a8\"], [0.3333333333333333, \"#9c179e\"], [0.4444444444444444, \"#bd3786\"], [0.5555555555555556, \"#d8576b\"], [0.6666666666666666, \"#ed7953\"], [0.7777777777777778, \"#fb9f3a\"], [0.8888888888888888, \"#fdca26\"], [1.0, \"#f0f921\"]], \"type\": \"heatmapgl\"}], \"histogram\": [{\"marker\": {\"colorbar\": {\"outlinewidth\": 0, \"ticks\": \"\"}}, \"type\": \"histogram\"}], \"histogram2d\": [{\"colorbar\": {\"outlinewidth\": 0, \"ticks\": \"\"}, \"colorscale\": [[0.0, \"#0d0887\"], [0.1111111111111111, \"#46039f\"], [0.2222222222222222, \"#7201a8\"], [0.3333333333333333, \"#9c179e\"], [0.4444444444444444, \"#bd3786\"], [0.5555555555555556, \"#d8576b\"], [0.6666666666666666, \"#ed7953\"], [0.7777777777777778, \"#fb9f3a\"], [0.8888888888888888, \"#fdca26\"], [1.0, \"#f0f921\"]], \"type\": \"histogram2d\"}], \"histogram2dcontour\": [{\"colorbar\": {\"outlinewidth\": 0, \"ticks\": \"\"}, \"colorscale\": [[0.0, \"#0d0887\"], [0.1111111111111111, \"#46039f\"], [0.2222222222222222, \"#7201a8\"], [0.3333333333333333, \"#9c179e\"], [0.4444444444444444, \"#bd3786\"], [0.5555555555555556, \"#d8576b\"], [0.6666666666666666, \"#ed7953\"], [0.7777777777777778, \"#fb9f3a\"], [0.8888888888888888, \"#fdca26\"], [1.0, \"#f0f921\"]], \"type\": \"histogram2dcontour\"}], \"mesh3d\": [{\"colorbar\": {\"outlinewidth\": 0, \"ticks\": \"\"}, \"type\": \"mesh3d\"}], \"parcoords\": [{\"line\": {\"colorbar\": {\"outlinewidth\": 0, \"ticks\": \"\"}}, \"type\": \"parcoords\"}], \"pie\": [{\"automargin\": true, \"type\": \"pie\"}], \"scatter\": [{\"marker\": {\"colorbar\": {\"outlinewidth\": 0, \"ticks\": \"\"}}, \"type\": \"scatter\"}], \"scatter3d\": [{\"line\": {\"colorbar\": {\"outlinewidth\": 0, \"ticks\": \"\"}}, \"marker\": {\"colorbar\": {\"outlinewidth\": 0, \"ticks\": \"\"}}, \"type\": \"scatter3d\"}], \"scattercarpet\": [{\"marker\": {\"colorbar\": {\"outlinewidth\": 0, \"ticks\": \"\"}}, \"type\": \"scattercarpet\"}], \"scattergeo\": [{\"marker\": {\"colorbar\": {\"outlinewidth\": 0, \"ticks\": \"\"}}, \"type\": \"scattergeo\"}], \"scattergl\": [{\"marker\": {\"colorbar\": {\"outlinewidth\": 0, \"ticks\": \"\"}}, \"type\": \"scattergl\"}], \"scattermapbox\": [{\"marker\": {\"colorbar\": {\"outlinewidth\": 0, \"ticks\": \"\"}}, \"type\": \"scattermapbox\"}], \"scatterpolar\": [{\"marker\": {\"colorbar\": {\"outlinewidth\": 0, \"ticks\": \"\"}}, \"type\": \"scatterpolar\"}], \"scatterpolargl\": [{\"marker\": {\"colorbar\": {\"outlinewidth\": 0, \"ticks\": \"\"}}, \"type\": \"scatterpolargl\"}], \"scatterternary\": [{\"marker\": {\"colorbar\": {\"outlinewidth\": 0, \"ticks\": \"\"}}, \"type\": \"scatterternary\"}], \"surface\": [{\"colorbar\": {\"outlinewidth\": 0, \"ticks\": \"\"}, \"colorscale\": [[0.0, \"#0d0887\"], [0.1111111111111111, \"#46039f\"], [0.2222222222222222, \"#7201a8\"], [0.3333333333333333, \"#9c179e\"], [0.4444444444444444, \"#bd3786\"], [0.5555555555555556, \"#d8576b\"], [0.6666666666666666, \"#ed7953\"], [0.7777777777777778, \"#fb9f3a\"], [0.8888888888888888, \"#fdca26\"], [1.0, \"#f0f921\"]], \"type\": \"surface\"}], \"table\": [{\"cells\": {\"fill\": {\"color\": \"#EBF0F8\"}, \"line\": {\"color\": \"white\"}}, \"header\": {\"fill\": {\"color\": \"#C8D4E3\"}, \"line\": {\"color\": \"white\"}}, \"type\": \"table\"}]}, \"layout\": {\"annotationdefaults\": {\"arrowcolor\": \"#2a3f5f\", \"arrowhead\": 0, \"arrowwidth\": 1}, \"autotypenumbers\": \"strict\", \"coloraxis\": {\"colorbar\": {\"outlinewidth\": 0, \"ticks\": \"\"}}, \"colorscale\": {\"diverging\": [[0, \"#8e0152\"], [0.1, \"#c51b7d\"], [0.2, \"#de77ae\"], [0.3, \"#f1b6da\"], [0.4, \"#fde0ef\"], [0.5, \"#f7f7f7\"], [0.6, \"#e6f5d0\"], [0.7, \"#b8e186\"], [0.8, \"#7fbc41\"], [0.9, \"#4d9221\"], [1, \"#276419\"]], \"sequential\": [[0.0, \"#0d0887\"], [0.1111111111111111, \"#46039f\"], [0.2222222222222222, \"#7201a8\"], [0.3333333333333333, \"#9c179e\"], [0.4444444444444444, \"#bd3786\"], [0.5555555555555556, \"#d8576b\"], [0.6666666666666666, \"#ed7953\"], [0.7777777777777778, \"#fb9f3a\"], [0.8888888888888888, \"#fdca26\"], [1.0, \"#f0f921\"]], \"sequentialminus\": [[0.0, \"#0d0887\"], [0.1111111111111111, \"#46039f\"], [0.2222222222222222, \"#7201a8\"], [0.3333333333333333, \"#9c179e\"], [0.4444444444444444, \"#bd3786\"], [0.5555555555555556, \"#d8576b\"], [0.6666666666666666, \"#ed7953\"], [0.7777777777777778, \"#fb9f3a\"], [0.8888888888888888, \"#fdca26\"], [1.0, \"#f0f921\"]]}, \"colorway\": [\"#636efa\", \"#EF553B\", \"#00cc96\", \"#ab63fa\", \"#FFA15A\", \"#19d3f3\", \"#FF6692\", \"#B6E880\", \"#FF97FF\", \"#FECB52\"], \"font\": {\"color\": \"#2a3f5f\"}, \"geo\": {\"bgcolor\": \"white\", \"lakecolor\": \"white\", \"landcolor\": \"#E5ECF6\", \"showlakes\": true, \"showland\": true, \"subunitcolor\": \"white\"}, \"hoverlabel\": {\"align\": \"left\"}, \"hovermode\": \"closest\", \"mapbox\": {\"style\": \"light\"}, \"paper_bgcolor\": \"white\", \"plot_bgcolor\": \"#E5ECF6\", \"polar\": {\"angularaxis\": {\"gridcolor\": \"white\", \"linecolor\": \"white\", \"ticks\": \"\"}, \"bgcolor\": \"#E5ECF6\", \"radialaxis\": {\"gridcolor\": \"white\", \"linecolor\": \"white\", \"ticks\": \"\"}}, \"scene\": {\"xaxis\": {\"backgroundcolor\": \"#E5ECF6\", \"gridcolor\": \"white\", \"gridwidth\": 2, \"linecolor\": \"white\", \"showbackground\": true, \"ticks\": \"\", \"zerolinecolor\": \"white\"}, \"yaxis\": {\"backgroundcolor\": \"#E5ECF6\", \"gridcolor\": \"white\", \"gridwidth\": 2, \"linecolor\": \"white\", \"showbackground\": true, \"ticks\": \"\", \"zerolinecolor\": \"white\"}, \"zaxis\": {\"backgroundcolor\": \"#E5ECF6\", \"gridcolor\": \"white\", \"gridwidth\": 2, \"linecolor\": \"white\", \"showbackground\": true, \"ticks\": \"\", \"zerolinecolor\": \"white\"}}, \"shapedefaults\": {\"line\": {\"color\": \"#2a3f5f\"}}, \"ternary\": {\"aaxis\": {\"gridcolor\": \"white\", \"linecolor\": \"white\", \"ticks\": \"\"}, \"baxis\": {\"gridcolor\": \"white\", \"linecolor\": \"white\", \"ticks\": \"\"}, \"bgcolor\": \"#E5ECF6\", \"caxis\": {\"gridcolor\": \"white\", \"linecolor\": \"white\", \"ticks\": \"\"}}, \"title\": {\"x\": 0.05}, \"xaxis\": {\"automargin\": true, \"gridcolor\": \"white\", \"linecolor\": \"white\", \"ticks\": \"\", \"title\": {\"standoff\": 15}, \"zerolinecolor\": \"white\", \"zerolinewidth\": 2}, \"yaxis\": {\"automargin\": true, \"gridcolor\": \"white\", \"linecolor\": \"white\", \"ticks\": \"\", \"title\": {\"standoff\": 15}, \"zerolinecolor\": \"white\", \"zerolinewidth\": 2}}}, \"title\": {\"text\": \"Countries for Total Vaccination\"}},                        {\"responsive\": true}                    ).then(function(){\n",
       "                            \n",
       "var gd = document.getElementById('2619fa68-5171-46eb-8b4f-4b806e030e58');\n",
       "var x = new MutationObserver(function (mutations, observer) {{\n",
       "        var display = window.getComputedStyle(gd).display;\n",
       "        if (!display || display === 'none') {{\n",
       "            console.log([gd, 'removed!']);\n",
       "            Plotly.purge(gd);\n",
       "            observer.disconnect();\n",
       "        }}\n",
       "}});\n",
       "\n",
       "// Listen for the removal of the full notebook cells\n",
       "var notebookContainer = gd.closest('#notebook-container');\n",
       "if (notebookContainer) {{\n",
       "    x.observe(notebookContainer, {childList: true});\n",
       "}}\n",
       "\n",
       "// Listen for the clearing of the current output cell\n",
       "var outputEl = gd.closest('.output');\n",
       "if (outputEl) {{\n",
       "    x.observe(outputEl, {childList: true});\n",
       "}}\n",
       "\n",
       "                        })                };                });            </script>        </div>"
      ]
     },
     "metadata": {},
     "output_type": "display_data"
    }
   ],
   "source": [
    "fig = px.choropleth(locations=country_vac['country'], \n",
    "                    locationmode=\"country names\",\n",
    "                    color=country_vac['total_vaccinations'],\n",
    "                    title=\"Countries for Total Vaccination\",\n",
    "                    height = 800,\n",
    "                    projection=\"mercator\")\n",
    "fig.show()"
   ]
  },
  {
   "cell_type": "code",
   "execution_count": 30,
   "metadata": {},
   "outputs": [
    {
     "data": {
      "application/vnd.plotly.v1+json": {
       "config": {
        "linkText": "Export to plot.ly",
        "plotlyServerURL": "https://plot.ly",
        "showLink": false
       },
       "data": [
        {
         "autocolorscale": false,
         "colorbar": {
          "tickprefix": "",
          "title": {
           "text": "Total vaccinations"
          }
         },
         "colorscale": [
          [
           0,
           "#440154"
          ],
          [
           0.1111111111111111,
           "#482878"
          ],
          [
           0.2222222222222222,
           "#3e4989"
          ],
          [
           0.3333333333333333,
           "#31688e"
          ],
          [
           0.4444444444444444,
           "#26828e"
          ],
          [
           0.5555555555555556,
           "#1f9e89"
          ],
          [
           0.6666666666666666,
           "#35b779"
          ],
          [
           0.7777777777777778,
           "#6ece58"
          ],
          [
           0.8888888888888888,
           "#b5de2b"
          ],
          [
           1,
           "#fde725"
          ]
         ],
         "locationmode": "country names",
         "locations": [
          "Afghanistan",
          "Albania",
          "Algeria",
          "Andorra",
          "Angola",
          "Anguilla",
          "Antigua and Barbuda",
          "Argentina",
          "Australia",
          "Austria",
          "Azerbaijan",
          "Bahamas",
          "Bahrain",
          "Bangladesh",
          "Barbados",
          "Belarus",
          "Belgium",
          "Belize",
          "Bermuda",
          "Bolivia",
          "Brazil",
          "Bulgaria",
          "Cambodia",
          "Canada",
          "Cayman Islands",
          "Chile",
          "China",
          "Colombia",
          "Costa Rica",
          "Cote d'Ivoire",
          "Croatia",
          "Cyprus",
          "Czechia",
          "Denmark",
          "Dominica",
          "Dominican Republic",
          "Ecuador",
          "Egypt",
          "El Salvador",
          "England",
          "Equatorial Guinea",
          "Estonia",
          "Faeroe Islands",
          "Falkland Islands",
          "Finland",
          "France",
          "Germany",
          "Ghana",
          "Gibraltar",
          "Greece",
          "Greenland",
          "Grenada",
          "Guatemala",
          "Guernsey",
          "Guinea",
          "Guyana",
          "Honduras",
          "Hong Kong",
          "Hungary",
          "Iceland",
          "India",
          "Indonesia",
          "Iran",
          "Ireland",
          "Isle of Man",
          "Israel",
          "Italy",
          "Jamaica",
          "Japan",
          "Jersey",
          "Jordan",
          "Kazakhstan",
          "Kenya",
          "Kuwait",
          "Laos",
          "Latvia",
          "Lebanon",
          "Liechtenstein",
          "Lithuania",
          "Luxembourg",
          "Macao",
          "Malawi",
          "Malaysia",
          "Maldives",
          "Malta",
          "Mauritius",
          "Mexico",
          "Moldova",
          "Monaco",
          "Mongolia",
          "Montenegro",
          "Montserrat",
          "Morocco",
          "Mozambique",
          "Myanmar",
          "Namibia",
          "Nepal",
          "Netherlands",
          "New Zealand",
          "Nigeria",
          "North Macedonia",
          "Northern Cyprus",
          "Northern Ireland",
          "Norway",
          "Oman",
          "Pakistan",
          "Panama",
          "Paraguay",
          "Peru",
          "Philippines",
          "Poland",
          "Portugal",
          "Qatar",
          "Romania",
          "Russia",
          "Rwanda",
          "Saint Helena",
          "Saint Kitts and Nevis",
          "Saint Lucia",
          "Saint Vincent and the Grenadines",
          "San Marino",
          "Saudi Arabia",
          "Scotland",
          "Senegal",
          "Serbia",
          "Seychelles",
          "Sierra Leone",
          "Singapore",
          "Slovakia",
          "Slovenia",
          "South Africa",
          "South Korea",
          "Spain",
          "Sri Lanka",
          "Suriname",
          "Sweden",
          "Switzerland",
          "Taiwan",
          "Thailand",
          "Togo",
          "Trinidad and Tobago",
          "Tunisia",
          "Turkey",
          "Turks and Caicos Islands",
          "Uganda",
          "Ukraine",
          "United Arab Emirates",
          "United Kingdom",
          "United States",
          "Uruguay",
          "Venezuela",
          "Vietnam",
          "Wales",
          "Zimbabwe"
         ],
         "marker": {
          "line": {
           "color": "rgb(0,0,0)",
           "width": 0.5
          }
         },
         "reversescale": true,
         "text": [
          "Afghanistan",
          "Albania",
          "Algeria",
          "Andorra",
          "Angola",
          "Anguilla",
          "Antigua and Barbuda",
          "Argentina",
          "Australia",
          "Austria",
          "Azerbaijan",
          "Bahamas",
          "Bahrain",
          "Bangladesh",
          "Barbados",
          "Belarus",
          "Belgium",
          "Belize",
          "Bermuda",
          "Bolivia",
          "Brazil",
          "Bulgaria",
          "Cambodia",
          "Canada",
          "Cayman Islands",
          "Chile",
          "China",
          "Colombia",
          "Costa Rica",
          "Cote d'Ivoire",
          "Croatia",
          "Cyprus",
          "Czechia",
          "Denmark",
          "Dominica",
          "Dominican Republic",
          "Ecuador",
          "Egypt",
          "El Salvador",
          "England",
          "Equatorial Guinea",
          "Estonia",
          "Faeroe Islands",
          "Falkland Islands",
          "Finland",
          "France",
          "Germany",
          "Ghana",
          "Gibraltar",
          "Greece",
          "Greenland",
          "Grenada",
          "Guatemala",
          "Guernsey",
          "Guinea",
          "Guyana",
          "Honduras",
          "Hong Kong",
          "Hungary",
          "Iceland",
          "India",
          "Indonesia",
          "Iran",
          "Ireland",
          "Isle of Man",
          "Israel",
          "Italy",
          "Jamaica",
          "Japan",
          "Jersey",
          "Jordan",
          "Kazakhstan",
          "Kenya",
          "Kuwait",
          "Laos",
          "Latvia",
          "Lebanon",
          "Liechtenstein",
          "Lithuania",
          "Luxembourg",
          "Macao",
          "Malawi",
          "Malaysia",
          "Maldives",
          "Malta",
          "Mauritius",
          "Mexico",
          "Moldova",
          "Monaco",
          "Mongolia",
          "Montenegro",
          "Montserrat",
          "Morocco",
          "Mozambique",
          "Myanmar",
          "Namibia",
          "Nepal",
          "Netherlands",
          "New Zealand",
          "Nigeria",
          "North Macedonia",
          "Northern Cyprus",
          "Northern Ireland",
          "Norway",
          "Oman",
          "Pakistan",
          "Panama",
          "Paraguay",
          "Peru",
          "Philippines",
          "Poland",
          "Portugal",
          "Qatar",
          "Romania",
          "Russia",
          "Rwanda",
          "Saint Helena",
          "Saint Kitts and Nevis",
          "Saint Lucia",
          "Saint Vincent and the Grenadines",
          "San Marino",
          "Saudi Arabia",
          "Scotland",
          "Senegal",
          "Serbia",
          "Seychelles",
          "Sierra Leone",
          "Singapore",
          "Slovakia",
          "Slovenia",
          "South Africa",
          "South Korea",
          "Spain",
          "Sri Lanka",
          "Suriname",
          "Sweden",
          "Switzerland",
          "Taiwan",
          "Thailand",
          "Togo",
          "Trinidad and Tobago",
          "Tunisia",
          "Turkey",
          "Turks and Caicos Islands",
          "Uganda",
          "Ukraine",
          "United Arab Emirates",
          "United Kingdom",
          "United States",
          "Uruguay",
          "Venezuela",
          "Vietnam",
          "Wales",
          "Zimbabwe"
         ],
         "type": "choropleth",
         "z": [
          54000,
          64075,
          75000,
          9288,
          87022,
          5348,
          25677,
          3570460,
          507000,
          1489710,
          510420,
          110,
          724001,
          5139456,
          62765,
          30000,
          1698809,
          18182,
          34204,
          263144,
          17519083,
          434158,
          296149,
          4967497,
          44061,
          9645015,
          102417000,
          1596288,
          348037,
          31104,
          416745,
          129438,
          1560919,
          1032419,
          13565,
          800000,
          191179,
          1315,
          49000,
          27761724,
          6565,
          252278,
          9959,
          1732,
          921123,
          10185810,
          12363439,
          420000,
          57646,
          1604238,
          5130,
          8606,
          91918,
          29383,
          25263,
          15524,
          43073,
          449200,
          2589469,
          60366,
          60269782,
          10425690,
          124193,
          732678,
          33336,
          9927583,
          9210893,
          16096,
          822869,
          52265,
          320140,
          109995,
          64100,
          360000,
          40732,
          126292,
          181127,
          4992,
          474961,
          82653,
          44908,
          90107,
          536681,
          227696,
          171873,
          3843,
          6724789,
          33885,
          18081,
          276068,
          16451,
          932,
          7634475,
          46439,
          380000,
          152,
          1600000,
          2097980,
          41500,
          277458,
          5300,
          97969,
          839609,
          865800,
          129198,
          350000,
          352876,
          28830,
          790790,
          508332,
          5755551,
          1536184,
          721236,
          2799895,
          10600000,
          348926,
          3107,
          7580,
          20247,
          9383,
          10308,
          3995150,
          2653521,
          225309,
          2282876,
          96523,
          10673,
          1109000,
          871081,
          295780,
          231605,
          799090,
          7067371,
          884164,
          22377,
          1482153,
          1342748,
          9232,
          102050,
          42092,
          991,
          38853,
          14652659,
          11283,
          46664,
          192264,
          7959682,
          33020952,
          140180735,
          509969,
          12194,
          44000,
          1766098,
          65466
         ]
        }
       ],
       "layout": {
        "geo": {
         "projection": {
          "type": "natural earth"
         },
         "showcoastlines": true,
         "showframe": true,
         "showlakes": true
        },
        "template": {
         "data": {
          "bar": [
           {
            "error_x": {
             "color": "#2a3f5f"
            },
            "error_y": {
             "color": "#2a3f5f"
            },
            "marker": {
             "line": {
              "color": "#E5ECF6",
              "width": 0.5
             }
            },
            "type": "bar"
           }
          ],
          "barpolar": [
           {
            "marker": {
             "line": {
              "color": "#E5ECF6",
              "width": 0.5
             }
            },
            "type": "barpolar"
           }
          ],
          "carpet": [
           {
            "aaxis": {
             "endlinecolor": "#2a3f5f",
             "gridcolor": "white",
             "linecolor": "white",
             "minorgridcolor": "white",
             "startlinecolor": "#2a3f5f"
            },
            "baxis": {
             "endlinecolor": "#2a3f5f",
             "gridcolor": "white",
             "linecolor": "white",
             "minorgridcolor": "white",
             "startlinecolor": "#2a3f5f"
            },
            "type": "carpet"
           }
          ],
          "choropleth": [
           {
            "colorbar": {
             "outlinewidth": 0,
             "ticks": ""
            },
            "type": "choropleth"
           }
          ],
          "contour": [
           {
            "colorbar": {
             "outlinewidth": 0,
             "ticks": ""
            },
            "colorscale": [
             [
              0,
              "#0d0887"
             ],
             [
              0.1111111111111111,
              "#46039f"
             ],
             [
              0.2222222222222222,
              "#7201a8"
             ],
             [
              0.3333333333333333,
              "#9c179e"
             ],
             [
              0.4444444444444444,
              "#bd3786"
             ],
             [
              0.5555555555555556,
              "#d8576b"
             ],
             [
              0.6666666666666666,
              "#ed7953"
             ],
             [
              0.7777777777777778,
              "#fb9f3a"
             ],
             [
              0.8888888888888888,
              "#fdca26"
             ],
             [
              1,
              "#f0f921"
             ]
            ],
            "type": "contour"
           }
          ],
          "contourcarpet": [
           {
            "colorbar": {
             "outlinewidth": 0,
             "ticks": ""
            },
            "type": "contourcarpet"
           }
          ],
          "heatmap": [
           {
            "colorbar": {
             "outlinewidth": 0,
             "ticks": ""
            },
            "colorscale": [
             [
              0,
              "#0d0887"
             ],
             [
              0.1111111111111111,
              "#46039f"
             ],
             [
              0.2222222222222222,
              "#7201a8"
             ],
             [
              0.3333333333333333,
              "#9c179e"
             ],
             [
              0.4444444444444444,
              "#bd3786"
             ],
             [
              0.5555555555555556,
              "#d8576b"
             ],
             [
              0.6666666666666666,
              "#ed7953"
             ],
             [
              0.7777777777777778,
              "#fb9f3a"
             ],
             [
              0.8888888888888888,
              "#fdca26"
             ],
             [
              1,
              "#f0f921"
             ]
            ],
            "type": "heatmap"
           }
          ],
          "heatmapgl": [
           {
            "colorbar": {
             "outlinewidth": 0,
             "ticks": ""
            },
            "colorscale": [
             [
              0,
              "#0d0887"
             ],
             [
              0.1111111111111111,
              "#46039f"
             ],
             [
              0.2222222222222222,
              "#7201a8"
             ],
             [
              0.3333333333333333,
              "#9c179e"
             ],
             [
              0.4444444444444444,
              "#bd3786"
             ],
             [
              0.5555555555555556,
              "#d8576b"
             ],
             [
              0.6666666666666666,
              "#ed7953"
             ],
             [
              0.7777777777777778,
              "#fb9f3a"
             ],
             [
              0.8888888888888888,
              "#fdca26"
             ],
             [
              1,
              "#f0f921"
             ]
            ],
            "type": "heatmapgl"
           }
          ],
          "histogram": [
           {
            "marker": {
             "colorbar": {
              "outlinewidth": 0,
              "ticks": ""
             }
            },
            "type": "histogram"
           }
          ],
          "histogram2d": [
           {
            "colorbar": {
             "outlinewidth": 0,
             "ticks": ""
            },
            "colorscale": [
             [
              0,
              "#0d0887"
             ],
             [
              0.1111111111111111,
              "#46039f"
             ],
             [
              0.2222222222222222,
              "#7201a8"
             ],
             [
              0.3333333333333333,
              "#9c179e"
             ],
             [
              0.4444444444444444,
              "#bd3786"
             ],
             [
              0.5555555555555556,
              "#d8576b"
             ],
             [
              0.6666666666666666,
              "#ed7953"
             ],
             [
              0.7777777777777778,
              "#fb9f3a"
             ],
             [
              0.8888888888888888,
              "#fdca26"
             ],
             [
              1,
              "#f0f921"
             ]
            ],
            "type": "histogram2d"
           }
          ],
          "histogram2dcontour": [
           {
            "colorbar": {
             "outlinewidth": 0,
             "ticks": ""
            },
            "colorscale": [
             [
              0,
              "#0d0887"
             ],
             [
              0.1111111111111111,
              "#46039f"
             ],
             [
              0.2222222222222222,
              "#7201a8"
             ],
             [
              0.3333333333333333,
              "#9c179e"
             ],
             [
              0.4444444444444444,
              "#bd3786"
             ],
             [
              0.5555555555555556,
              "#d8576b"
             ],
             [
              0.6666666666666666,
              "#ed7953"
             ],
             [
              0.7777777777777778,
              "#fb9f3a"
             ],
             [
              0.8888888888888888,
              "#fdca26"
             ],
             [
              1,
              "#f0f921"
             ]
            ],
            "type": "histogram2dcontour"
           }
          ],
          "mesh3d": [
           {
            "colorbar": {
             "outlinewidth": 0,
             "ticks": ""
            },
            "type": "mesh3d"
           }
          ],
          "parcoords": [
           {
            "line": {
             "colorbar": {
              "outlinewidth": 0,
              "ticks": ""
             }
            },
            "type": "parcoords"
           }
          ],
          "pie": [
           {
            "automargin": true,
            "type": "pie"
           }
          ],
          "scatter": [
           {
            "marker": {
             "colorbar": {
              "outlinewidth": 0,
              "ticks": ""
             }
            },
            "type": "scatter"
           }
          ],
          "scatter3d": [
           {
            "line": {
             "colorbar": {
              "outlinewidth": 0,
              "ticks": ""
             }
            },
            "marker": {
             "colorbar": {
              "outlinewidth": 0,
              "ticks": ""
             }
            },
            "type": "scatter3d"
           }
          ],
          "scattercarpet": [
           {
            "marker": {
             "colorbar": {
              "outlinewidth": 0,
              "ticks": ""
             }
            },
            "type": "scattercarpet"
           }
          ],
          "scattergeo": [
           {
            "marker": {
             "colorbar": {
              "outlinewidth": 0,
              "ticks": ""
             }
            },
            "type": "scattergeo"
           }
          ],
          "scattergl": [
           {
            "marker": {
             "colorbar": {
              "outlinewidth": 0,
              "ticks": ""
             }
            },
            "type": "scattergl"
           }
          ],
          "scattermapbox": [
           {
            "marker": {
             "colorbar": {
              "outlinewidth": 0,
              "ticks": ""
             }
            },
            "type": "scattermapbox"
           }
          ],
          "scatterpolar": [
           {
            "marker": {
             "colorbar": {
              "outlinewidth": 0,
              "ticks": ""
             }
            },
            "type": "scatterpolar"
           }
          ],
          "scatterpolargl": [
           {
            "marker": {
             "colorbar": {
              "outlinewidth": 0,
              "ticks": ""
             }
            },
            "type": "scatterpolargl"
           }
          ],
          "scatterternary": [
           {
            "marker": {
             "colorbar": {
              "outlinewidth": 0,
              "ticks": ""
             }
            },
            "type": "scatterternary"
           }
          ],
          "surface": [
           {
            "colorbar": {
             "outlinewidth": 0,
             "ticks": ""
            },
            "colorscale": [
             [
              0,
              "#0d0887"
             ],
             [
              0.1111111111111111,
              "#46039f"
             ],
             [
              0.2222222222222222,
              "#7201a8"
             ],
             [
              0.3333333333333333,
              "#9c179e"
             ],
             [
              0.4444444444444444,
              "#bd3786"
             ],
             [
              0.5555555555555556,
              "#d8576b"
             ],
             [
              0.6666666666666666,
              "#ed7953"
             ],
             [
              0.7777777777777778,
              "#fb9f3a"
             ],
             [
              0.8888888888888888,
              "#fdca26"
             ],
             [
              1,
              "#f0f921"
             ]
            ],
            "type": "surface"
           }
          ],
          "table": [
           {
            "cells": {
             "fill": {
              "color": "#EBF0F8"
             },
             "line": {
              "color": "white"
             }
            },
            "header": {
             "fill": {
              "color": "#C8D4E3"
             },
             "line": {
              "color": "white"
             }
            },
            "type": "table"
           }
          ]
         },
         "layout": {
          "annotationdefaults": {
           "arrowcolor": "#2a3f5f",
           "arrowhead": 0,
           "arrowwidth": 1
          },
          "autotypenumbers": "strict",
          "coloraxis": {
           "colorbar": {
            "outlinewidth": 0,
            "ticks": ""
           }
          },
          "colorscale": {
           "diverging": [
            [
             0,
             "#8e0152"
            ],
            [
             0.1,
             "#c51b7d"
            ],
            [
             0.2,
             "#de77ae"
            ],
            [
             0.3,
             "#f1b6da"
            ],
            [
             0.4,
             "#fde0ef"
            ],
            [
             0.5,
             "#f7f7f7"
            ],
            [
             0.6,
             "#e6f5d0"
            ],
            [
             0.7,
             "#b8e186"
            ],
            [
             0.8,
             "#7fbc41"
            ],
            [
             0.9,
             "#4d9221"
            ],
            [
             1,
             "#276419"
            ]
           ],
           "sequential": [
            [
             0,
             "#0d0887"
            ],
            [
             0.1111111111111111,
             "#46039f"
            ],
            [
             0.2222222222222222,
             "#7201a8"
            ],
            [
             0.3333333333333333,
             "#9c179e"
            ],
            [
             0.4444444444444444,
             "#bd3786"
            ],
            [
             0.5555555555555556,
             "#d8576b"
            ],
            [
             0.6666666666666666,
             "#ed7953"
            ],
            [
             0.7777777777777778,
             "#fb9f3a"
            ],
            [
             0.8888888888888888,
             "#fdca26"
            ],
            [
             1,
             "#f0f921"
            ]
           ],
           "sequentialminus": [
            [
             0,
             "#0d0887"
            ],
            [
             0.1111111111111111,
             "#46039f"
            ],
            [
             0.2222222222222222,
             "#7201a8"
            ],
            [
             0.3333333333333333,
             "#9c179e"
            ],
            [
             0.4444444444444444,
             "#bd3786"
            ],
            [
             0.5555555555555556,
             "#d8576b"
            ],
            [
             0.6666666666666666,
             "#ed7953"
            ],
            [
             0.7777777777777778,
             "#fb9f3a"
            ],
            [
             0.8888888888888888,
             "#fdca26"
            ],
            [
             1,
             "#f0f921"
            ]
           ]
          },
          "colorway": [
           "#636efa",
           "#EF553B",
           "#00cc96",
           "#ab63fa",
           "#FFA15A",
           "#19d3f3",
           "#FF6692",
           "#B6E880",
           "#FF97FF",
           "#FECB52"
          ],
          "font": {
           "color": "#2a3f5f"
          },
          "geo": {
           "bgcolor": "white",
           "lakecolor": "white",
           "landcolor": "#E5ECF6",
           "showlakes": true,
           "showland": true,
           "subunitcolor": "white"
          },
          "hoverlabel": {
           "align": "left"
          },
          "hovermode": "closest",
          "mapbox": {
           "style": "light"
          },
          "paper_bgcolor": "white",
          "plot_bgcolor": "#E5ECF6",
          "polar": {
           "angularaxis": {
            "gridcolor": "white",
            "linecolor": "white",
            "ticks": ""
           },
           "bgcolor": "#E5ECF6",
           "radialaxis": {
            "gridcolor": "white",
            "linecolor": "white",
            "ticks": ""
           }
          },
          "scene": {
           "xaxis": {
            "backgroundcolor": "#E5ECF6",
            "gridcolor": "white",
            "gridwidth": 2,
            "linecolor": "white",
            "showbackground": true,
            "ticks": "",
            "zerolinecolor": "white"
           },
           "yaxis": {
            "backgroundcolor": "#E5ECF6",
            "gridcolor": "white",
            "gridwidth": 2,
            "linecolor": "white",
            "showbackground": true,
            "ticks": "",
            "zerolinecolor": "white"
           },
           "zaxis": {
            "backgroundcolor": "#E5ECF6",
            "gridcolor": "white",
            "gridwidth": 2,
            "linecolor": "white",
            "showbackground": true,
            "ticks": "",
            "zerolinecolor": "white"
           }
          },
          "shapedefaults": {
           "line": {
            "color": "#2a3f5f"
           }
          },
          "ternary": {
           "aaxis": {
            "gridcolor": "white",
            "linecolor": "white",
            "ticks": ""
           },
           "baxis": {
            "gridcolor": "white",
            "linecolor": "white",
            "ticks": ""
           },
           "bgcolor": "#E5ECF6",
           "caxis": {
            "gridcolor": "white",
            "linecolor": "white",
            "ticks": ""
           }
          },
          "title": {
           "x": 0.05
          },
          "xaxis": {
           "automargin": true,
           "gridcolor": "white",
           "linecolor": "white",
           "ticks": "",
           "title": {
            "standoff": 15
           },
           "zerolinecolor": "white",
           "zerolinewidth": 2
          },
          "yaxis": {
           "automargin": true,
           "gridcolor": "white",
           "linecolor": "white",
           "ticks": "",
           "title": {
            "standoff": 15
           },
           "zerolinecolor": "white",
           "zerolinewidth": 2
          }
         }
        },
        "title": {
         "text": "Total vaccinations per country"
        }
       }
      },
      "text/html": [
       "<div>                            <div id=\"949f5299-d8c7-459a-a91f-3edc26b9d888\" class=\"plotly-graph-div\" style=\"height:525px; width:100%;\"></div>            <script type=\"text/javascript\">                require([\"plotly\"], function(Plotly) {                    window.PLOTLYENV=window.PLOTLYENV || {};                                    if (document.getElementById(\"949f5299-d8c7-459a-a91f-3edc26b9d888\")) {                    Plotly.newPlot(                        \"949f5299-d8c7-459a-a91f-3edc26b9d888\",                        [{\"autocolorscale\": false, \"colorbar\": {\"tickprefix\": \"\", \"title\": {\"text\": \"Total vaccinations\"}}, \"colorscale\": [[0.0, \"#440154\"], [0.1111111111111111, \"#482878\"], [0.2222222222222222, \"#3e4989\"], [0.3333333333333333, \"#31688e\"], [0.4444444444444444, \"#26828e\"], [0.5555555555555556, \"#1f9e89\"], [0.6666666666666666, \"#35b779\"], [0.7777777777777778, \"#6ece58\"], [0.8888888888888888, \"#b5de2b\"], [1.0, \"#fde725\"]], \"locationmode\": \"country names\", \"locations\": [\"Afghanistan\", \"Albania\", \"Algeria\", \"Andorra\", \"Angola\", \"Anguilla\", \"Antigua and Barbuda\", \"Argentina\", \"Australia\", \"Austria\", \"Azerbaijan\", \"Bahamas\", \"Bahrain\", \"Bangladesh\", \"Barbados\", \"Belarus\", \"Belgium\", \"Belize\", \"Bermuda\", \"Bolivia\", \"Brazil\", \"Bulgaria\", \"Cambodia\", \"Canada\", \"Cayman Islands\", \"Chile\", \"China\", \"Colombia\", \"Costa Rica\", \"Cote d'Ivoire\", \"Croatia\", \"Cyprus\", \"Czechia\", \"Denmark\", \"Dominica\", \"Dominican Republic\", \"Ecuador\", \"Egypt\", \"El Salvador\", \"England\", \"Equatorial Guinea\", \"Estonia\", \"Faeroe Islands\", \"Falkland Islands\", \"Finland\", \"France\", \"Germany\", \"Ghana\", \"Gibraltar\", \"Greece\", \"Greenland\", \"Grenada\", \"Guatemala\", \"Guernsey\", \"Guinea\", \"Guyana\", \"Honduras\", \"Hong Kong\", \"Hungary\", \"Iceland\", \"India\", \"Indonesia\", \"Iran\", \"Ireland\", \"Isle of Man\", \"Israel\", \"Italy\", \"Jamaica\", \"Japan\", \"Jersey\", \"Jordan\", \"Kazakhstan\", \"Kenya\", \"Kuwait\", \"Laos\", \"Latvia\", \"Lebanon\", \"Liechtenstein\", \"Lithuania\", \"Luxembourg\", \"Macao\", \"Malawi\", \"Malaysia\", \"Maldives\", \"Malta\", \"Mauritius\", \"Mexico\", \"Moldova\", \"Monaco\", \"Mongolia\", \"Montenegro\", \"Montserrat\", \"Morocco\", \"Mozambique\", \"Myanmar\", \"Namibia\", \"Nepal\", \"Netherlands\", \"New Zealand\", \"Nigeria\", \"North Macedonia\", \"Northern Cyprus\", \"Northern Ireland\", \"Norway\", \"Oman\", \"Pakistan\", \"Panama\", \"Paraguay\", \"Peru\", \"Philippines\", \"Poland\", \"Portugal\", \"Qatar\", \"Romania\", \"Russia\", \"Rwanda\", \"Saint Helena\", \"Saint Kitts and Nevis\", \"Saint Lucia\", \"Saint Vincent and the Grenadines\", \"San Marino\", \"Saudi Arabia\", \"Scotland\", \"Senegal\", \"Serbia\", \"Seychelles\", \"Sierra Leone\", \"Singapore\", \"Slovakia\", \"Slovenia\", \"South Africa\", \"South Korea\", \"Spain\", \"Sri Lanka\", \"Suriname\", \"Sweden\", \"Switzerland\", \"Taiwan\", \"Thailand\", \"Togo\", \"Trinidad and Tobago\", \"Tunisia\", \"Turkey\", \"Turks and Caicos Islands\", \"Uganda\", \"Ukraine\", \"United Arab Emirates\", \"United Kingdom\", \"United States\", \"Uruguay\", \"Venezuela\", \"Vietnam\", \"Wales\", \"Zimbabwe\"], \"marker\": {\"line\": {\"color\": \"rgb(0,0,0)\", \"width\": 0.5}}, \"reversescale\": true, \"text\": [\"Afghanistan\", \"Albania\", \"Algeria\", \"Andorra\", \"Angola\", \"Anguilla\", \"Antigua and Barbuda\", \"Argentina\", \"Australia\", \"Austria\", \"Azerbaijan\", \"Bahamas\", \"Bahrain\", \"Bangladesh\", \"Barbados\", \"Belarus\", \"Belgium\", \"Belize\", \"Bermuda\", \"Bolivia\", \"Brazil\", \"Bulgaria\", \"Cambodia\", \"Canada\", \"Cayman Islands\", \"Chile\", \"China\", \"Colombia\", \"Costa Rica\", \"Cote d'Ivoire\", \"Croatia\", \"Cyprus\", \"Czechia\", \"Denmark\", \"Dominica\", \"Dominican Republic\", \"Ecuador\", \"Egypt\", \"El Salvador\", \"England\", \"Equatorial Guinea\", \"Estonia\", \"Faeroe Islands\", \"Falkland Islands\", \"Finland\", \"France\", \"Germany\", \"Ghana\", \"Gibraltar\", \"Greece\", \"Greenland\", \"Grenada\", \"Guatemala\", \"Guernsey\", \"Guinea\", \"Guyana\", \"Honduras\", \"Hong Kong\", \"Hungary\", \"Iceland\", \"India\", \"Indonesia\", \"Iran\", \"Ireland\", \"Isle of Man\", \"Israel\", \"Italy\", \"Jamaica\", \"Japan\", \"Jersey\", \"Jordan\", \"Kazakhstan\", \"Kenya\", \"Kuwait\", \"Laos\", \"Latvia\", \"Lebanon\", \"Liechtenstein\", \"Lithuania\", \"Luxembourg\", \"Macao\", \"Malawi\", \"Malaysia\", \"Maldives\", \"Malta\", \"Mauritius\", \"Mexico\", \"Moldova\", \"Monaco\", \"Mongolia\", \"Montenegro\", \"Montserrat\", \"Morocco\", \"Mozambique\", \"Myanmar\", \"Namibia\", \"Nepal\", \"Netherlands\", \"New Zealand\", \"Nigeria\", \"North Macedonia\", \"Northern Cyprus\", \"Northern Ireland\", \"Norway\", \"Oman\", \"Pakistan\", \"Panama\", \"Paraguay\", \"Peru\", \"Philippines\", \"Poland\", \"Portugal\", \"Qatar\", \"Romania\", \"Russia\", \"Rwanda\", \"Saint Helena\", \"Saint Kitts and Nevis\", \"Saint Lucia\", \"Saint Vincent and the Grenadines\", \"San Marino\", \"Saudi Arabia\", \"Scotland\", \"Senegal\", \"Serbia\", \"Seychelles\", \"Sierra Leone\", \"Singapore\", \"Slovakia\", \"Slovenia\", \"South Africa\", \"South Korea\", \"Spain\", \"Sri Lanka\", \"Suriname\", \"Sweden\", \"Switzerland\", \"Taiwan\", \"Thailand\", \"Togo\", \"Trinidad and Tobago\", \"Tunisia\", \"Turkey\", \"Turks and Caicos Islands\", \"Uganda\", \"Ukraine\", \"United Arab Emirates\", \"United Kingdom\", \"United States\", \"Uruguay\", \"Venezuela\", \"Vietnam\", \"Wales\", \"Zimbabwe\"], \"type\": \"choropleth\", \"z\": [54000.0, 64075.0, 75000.0, 9288.0, 87022.0, 5348.0, 25677.0, 3570460.0, 507000.0, 1489710.0, 510420.0, 110.0, 724001.0, 5139456.0, 62765.0, 30000.0, 1698809.0, 18182.0, 34204.0, 263144.0, 17519083.0, 434158.0, 296149.0, 4967497.0, 44061.0, 9645015.0, 102417000.0, 1596288.0, 348037.0, 31104.0, 416745.0, 129438.0, 1560919.0, 1032419.0, 13565.0, 800000.0, 191179.0, 1315.0, 49000.0, 27761724.0, 6565.0, 252278.0, 9959.0, 1732.0, 921123.0, 10185810.0, 12363439.0, 420000.0, 57646.0, 1604238.0, 5130.0, 8606.0, 91918.0, 29383.0, 25263.0, 15524.0, 43073.0, 449200.0, 2589469.0, 60366.0, 60269782.0, 10425690.0, 124193.0, 732678.0, 33336.0, 9927583.0, 9210893.0, 16096.0, 822869.0, 52265.0, 320140.0, 109995.0, 64100.0, 360000.0, 40732.0, 126292.0, 181127.0, 4992.0, 474961.0, 82653.0, 44908.0, 90107.0, 536681.0, 227696.0, 171873.0, 3843.0, 6724789.0, 33885.0, 18081.0, 276068.0, 16451.0, 932.0, 7634475.0, 46439.0, 380000.0, 152.0, 1600000.0, 2097980.0, 41500.0, 277458.0, 5300.0, 97969.0, 839609.0, 865800.0, 129198.0, 350000.0, 352876.0, 28830.0, 790790.0, 508332.0, 5755551.0, 1536184.0, 721236.0, 2799895.0, 10600000.0, 348926.0, 3107.0, 7580.0, 20247.0, 9383.0, 10308.0, 3995150.0, 2653521.0, 225309.0, 2282876.0, 96523.0, 10673.0, 1109000.0, 871081.0, 295780.0, 231605.0, 799090.0, 7067371.0, 884164.0, 22377.0, 1482153.0, 1342748.0, 9232.0, 102050.0, 42092.0, 991.0, 38853.0, 14652659.0, 11283.0, 46664.0, 192264.0, 7959682.0, 33020952.0, 140180735.0, 509969.0, 12194.0, 44000.0, 1766098.0, 65466.0]}],                        {\"geo\": {\"projection\": {\"type\": \"natural earth\"}, \"showcoastlines\": true, \"showframe\": true, \"showlakes\": true}, \"template\": {\"data\": {\"bar\": [{\"error_x\": {\"color\": \"#2a3f5f\"}, \"error_y\": {\"color\": \"#2a3f5f\"}, \"marker\": {\"line\": {\"color\": \"#E5ECF6\", \"width\": 0.5}}, \"type\": \"bar\"}], \"barpolar\": [{\"marker\": {\"line\": {\"color\": \"#E5ECF6\", \"width\": 0.5}}, \"type\": \"barpolar\"}], \"carpet\": [{\"aaxis\": {\"endlinecolor\": \"#2a3f5f\", \"gridcolor\": \"white\", \"linecolor\": \"white\", \"minorgridcolor\": \"white\", \"startlinecolor\": \"#2a3f5f\"}, \"baxis\": {\"endlinecolor\": \"#2a3f5f\", \"gridcolor\": \"white\", \"linecolor\": \"white\", \"minorgridcolor\": \"white\", \"startlinecolor\": \"#2a3f5f\"}, \"type\": \"carpet\"}], \"choropleth\": [{\"colorbar\": {\"outlinewidth\": 0, \"ticks\": \"\"}, \"type\": \"choropleth\"}], \"contour\": [{\"colorbar\": {\"outlinewidth\": 0, \"ticks\": \"\"}, \"colorscale\": [[0.0, \"#0d0887\"], [0.1111111111111111, \"#46039f\"], [0.2222222222222222, \"#7201a8\"], [0.3333333333333333, \"#9c179e\"], [0.4444444444444444, \"#bd3786\"], [0.5555555555555556, \"#d8576b\"], [0.6666666666666666, \"#ed7953\"], [0.7777777777777778, \"#fb9f3a\"], [0.8888888888888888, \"#fdca26\"], [1.0, \"#f0f921\"]], \"type\": \"contour\"}], \"contourcarpet\": [{\"colorbar\": {\"outlinewidth\": 0, \"ticks\": \"\"}, \"type\": \"contourcarpet\"}], \"heatmap\": [{\"colorbar\": {\"outlinewidth\": 0, \"ticks\": \"\"}, \"colorscale\": [[0.0, \"#0d0887\"], [0.1111111111111111, \"#46039f\"], [0.2222222222222222, \"#7201a8\"], [0.3333333333333333, \"#9c179e\"], [0.4444444444444444, \"#bd3786\"], [0.5555555555555556, \"#d8576b\"], [0.6666666666666666, \"#ed7953\"], [0.7777777777777778, \"#fb9f3a\"], [0.8888888888888888, \"#fdca26\"], [1.0, \"#f0f921\"]], \"type\": \"heatmap\"}], \"heatmapgl\": [{\"colorbar\": {\"outlinewidth\": 0, \"ticks\": \"\"}, \"colorscale\": [[0.0, \"#0d0887\"], [0.1111111111111111, \"#46039f\"], [0.2222222222222222, \"#7201a8\"], [0.3333333333333333, \"#9c179e\"], [0.4444444444444444, \"#bd3786\"], [0.5555555555555556, \"#d8576b\"], [0.6666666666666666, \"#ed7953\"], [0.7777777777777778, \"#fb9f3a\"], [0.8888888888888888, \"#fdca26\"], [1.0, \"#f0f921\"]], \"type\": \"heatmapgl\"}], \"histogram\": [{\"marker\": {\"colorbar\": {\"outlinewidth\": 0, \"ticks\": \"\"}}, \"type\": \"histogram\"}], \"histogram2d\": [{\"colorbar\": {\"outlinewidth\": 0, \"ticks\": \"\"}, \"colorscale\": [[0.0, \"#0d0887\"], [0.1111111111111111, \"#46039f\"], [0.2222222222222222, \"#7201a8\"], [0.3333333333333333, \"#9c179e\"], [0.4444444444444444, \"#bd3786\"], [0.5555555555555556, \"#d8576b\"], [0.6666666666666666, \"#ed7953\"], [0.7777777777777778, \"#fb9f3a\"], [0.8888888888888888, \"#fdca26\"], [1.0, \"#f0f921\"]], \"type\": \"histogram2d\"}], \"histogram2dcontour\": [{\"colorbar\": {\"outlinewidth\": 0, \"ticks\": \"\"}, \"colorscale\": [[0.0, \"#0d0887\"], [0.1111111111111111, \"#46039f\"], [0.2222222222222222, \"#7201a8\"], [0.3333333333333333, \"#9c179e\"], [0.4444444444444444, \"#bd3786\"], [0.5555555555555556, \"#d8576b\"], [0.6666666666666666, \"#ed7953\"], [0.7777777777777778, \"#fb9f3a\"], [0.8888888888888888, \"#fdca26\"], [1.0, \"#f0f921\"]], \"type\": \"histogram2dcontour\"}], \"mesh3d\": [{\"colorbar\": {\"outlinewidth\": 0, \"ticks\": \"\"}, \"type\": \"mesh3d\"}], \"parcoords\": [{\"line\": {\"colorbar\": {\"outlinewidth\": 0, \"ticks\": \"\"}}, \"type\": \"parcoords\"}], \"pie\": [{\"automargin\": true, \"type\": \"pie\"}], \"scatter\": [{\"marker\": {\"colorbar\": {\"outlinewidth\": 0, \"ticks\": \"\"}}, \"type\": \"scatter\"}], \"scatter3d\": [{\"line\": {\"colorbar\": {\"outlinewidth\": 0, \"ticks\": \"\"}}, \"marker\": {\"colorbar\": {\"outlinewidth\": 0, \"ticks\": \"\"}}, \"type\": \"scatter3d\"}], \"scattercarpet\": [{\"marker\": {\"colorbar\": {\"outlinewidth\": 0, \"ticks\": \"\"}}, \"type\": \"scattercarpet\"}], \"scattergeo\": [{\"marker\": {\"colorbar\": {\"outlinewidth\": 0, \"ticks\": \"\"}}, \"type\": \"scattergeo\"}], \"scattergl\": [{\"marker\": {\"colorbar\": {\"outlinewidth\": 0, \"ticks\": \"\"}}, \"type\": \"scattergl\"}], \"scattermapbox\": [{\"marker\": {\"colorbar\": {\"outlinewidth\": 0, \"ticks\": \"\"}}, \"type\": \"scattermapbox\"}], \"scatterpolar\": [{\"marker\": {\"colorbar\": {\"outlinewidth\": 0, \"ticks\": \"\"}}, \"type\": \"scatterpolar\"}], \"scatterpolargl\": [{\"marker\": {\"colorbar\": {\"outlinewidth\": 0, \"ticks\": \"\"}}, \"type\": \"scatterpolargl\"}], \"scatterternary\": [{\"marker\": {\"colorbar\": {\"outlinewidth\": 0, \"ticks\": \"\"}}, \"type\": \"scatterternary\"}], \"surface\": [{\"colorbar\": {\"outlinewidth\": 0, \"ticks\": \"\"}, \"colorscale\": [[0.0, \"#0d0887\"], [0.1111111111111111, \"#46039f\"], [0.2222222222222222, \"#7201a8\"], [0.3333333333333333, \"#9c179e\"], [0.4444444444444444, \"#bd3786\"], [0.5555555555555556, \"#d8576b\"], [0.6666666666666666, \"#ed7953\"], [0.7777777777777778, \"#fb9f3a\"], [0.8888888888888888, \"#fdca26\"], [1.0, \"#f0f921\"]], \"type\": \"surface\"}], \"table\": [{\"cells\": {\"fill\": {\"color\": \"#EBF0F8\"}, \"line\": {\"color\": \"white\"}}, \"header\": {\"fill\": {\"color\": \"#C8D4E3\"}, \"line\": {\"color\": \"white\"}}, \"type\": \"table\"}]}, \"layout\": {\"annotationdefaults\": {\"arrowcolor\": \"#2a3f5f\", \"arrowhead\": 0, \"arrowwidth\": 1}, \"autotypenumbers\": \"strict\", \"coloraxis\": {\"colorbar\": {\"outlinewidth\": 0, \"ticks\": \"\"}}, \"colorscale\": {\"diverging\": [[0, \"#8e0152\"], [0.1, \"#c51b7d\"], [0.2, \"#de77ae\"], [0.3, \"#f1b6da\"], [0.4, \"#fde0ef\"], [0.5, \"#f7f7f7\"], [0.6, \"#e6f5d0\"], [0.7, \"#b8e186\"], [0.8, \"#7fbc41\"], [0.9, \"#4d9221\"], [1, \"#276419\"]], \"sequential\": [[0.0, \"#0d0887\"], [0.1111111111111111, \"#46039f\"], [0.2222222222222222, \"#7201a8\"], [0.3333333333333333, \"#9c179e\"], [0.4444444444444444, \"#bd3786\"], [0.5555555555555556, \"#d8576b\"], [0.6666666666666666, \"#ed7953\"], [0.7777777777777778, \"#fb9f3a\"], [0.8888888888888888, \"#fdca26\"], [1.0, \"#f0f921\"]], \"sequentialminus\": [[0.0, \"#0d0887\"], [0.1111111111111111, \"#46039f\"], [0.2222222222222222, \"#7201a8\"], [0.3333333333333333, \"#9c179e\"], [0.4444444444444444, \"#bd3786\"], [0.5555555555555556, \"#d8576b\"], [0.6666666666666666, \"#ed7953\"], [0.7777777777777778, \"#fb9f3a\"], [0.8888888888888888, \"#fdca26\"], [1.0, \"#f0f921\"]]}, \"colorway\": [\"#636efa\", \"#EF553B\", \"#00cc96\", \"#ab63fa\", \"#FFA15A\", \"#19d3f3\", \"#FF6692\", \"#B6E880\", \"#FF97FF\", \"#FECB52\"], \"font\": {\"color\": \"#2a3f5f\"}, \"geo\": {\"bgcolor\": \"white\", \"lakecolor\": \"white\", \"landcolor\": \"#E5ECF6\", \"showlakes\": true, \"showland\": true, \"subunitcolor\": \"white\"}, \"hoverlabel\": {\"align\": \"left\"}, \"hovermode\": \"closest\", \"mapbox\": {\"style\": \"light\"}, \"paper_bgcolor\": \"white\", \"plot_bgcolor\": \"#E5ECF6\", \"polar\": {\"angularaxis\": {\"gridcolor\": \"white\", \"linecolor\": \"white\", \"ticks\": \"\"}, \"bgcolor\": \"#E5ECF6\", \"radialaxis\": {\"gridcolor\": \"white\", \"linecolor\": \"white\", \"ticks\": \"\"}}, \"scene\": {\"xaxis\": {\"backgroundcolor\": \"#E5ECF6\", \"gridcolor\": \"white\", \"gridwidth\": 2, \"linecolor\": \"white\", \"showbackground\": true, \"ticks\": \"\", \"zerolinecolor\": \"white\"}, \"yaxis\": {\"backgroundcolor\": \"#E5ECF6\", \"gridcolor\": \"white\", \"gridwidth\": 2, \"linecolor\": \"white\", \"showbackground\": true, \"ticks\": \"\", \"zerolinecolor\": \"white\"}, \"zaxis\": {\"backgroundcolor\": \"#E5ECF6\", \"gridcolor\": \"white\", \"gridwidth\": 2, \"linecolor\": \"white\", \"showbackground\": true, \"ticks\": \"\", \"zerolinecolor\": \"white\"}}, \"shapedefaults\": {\"line\": {\"color\": \"#2a3f5f\"}}, \"ternary\": {\"aaxis\": {\"gridcolor\": \"white\", \"linecolor\": \"white\", \"ticks\": \"\"}, \"baxis\": {\"gridcolor\": \"white\", \"linecolor\": \"white\", \"ticks\": \"\"}, \"bgcolor\": \"#E5ECF6\", \"caxis\": {\"gridcolor\": \"white\", \"linecolor\": \"white\", \"ticks\": \"\"}}, \"title\": {\"x\": 0.05}, \"xaxis\": {\"automargin\": true, \"gridcolor\": \"white\", \"linecolor\": \"white\", \"ticks\": \"\", \"title\": {\"standoff\": 15}, \"zerolinecolor\": \"white\", \"zerolinewidth\": 2}, \"yaxis\": {\"automargin\": true, \"gridcolor\": \"white\", \"linecolor\": \"white\", \"ticks\": \"\", \"title\": {\"standoff\": 15}, \"zerolinecolor\": \"white\", \"zerolinewidth\": 2}}}, \"title\": {\"text\": \"Total vaccinations per country\"}},                        {\"responsive\": true}                    ).then(function(){\n",
       "                            \n",
       "var gd = document.getElementById('949f5299-d8c7-459a-a91f-3edc26b9d888');\n",
       "var x = new MutationObserver(function (mutations, observer) {{\n",
       "        var display = window.getComputedStyle(gd).display;\n",
       "        if (!display || display === 'none') {{\n",
       "            console.log([gd, 'removed!']);\n",
       "            Plotly.purge(gd);\n",
       "            observer.disconnect();\n",
       "        }}\n",
       "}});\n",
       "\n",
       "// Listen for the removal of the full notebook cells\n",
       "var notebookContainer = gd.closest('#notebook-container');\n",
       "if (notebookContainer) {{\n",
       "    x.observe(notebookContainer, {childList: true});\n",
       "}}\n",
       "\n",
       "// Listen for the clearing of the current output cell\n",
       "var outputEl = gd.closest('.output');\n",
       "if (outputEl) {{\n",
       "    x.observe(outputEl, {childList: true});\n",
       "}}\n",
       "\n",
       "                        })                };                });            </script>        </div>"
      ]
     },
     "metadata": {},
     "output_type": "display_data"
    }
   ],
   "source": [
    "trace= go.Choropleth(\n",
    "            locations = country_vac['country'],\n",
    "            locationmode='country names',\n",
    "            z = country_vac['total_vaccinations'],\n",
    "            text = country_vac['country'],\n",
    "            autocolorscale =False,\n",
    "            reversescale = True,\n",
    "            colorscale = 'viridis',\n",
    "            marker = dict(\n",
    "                line = dict(\n",
    "                    color = 'rgb(0,0,0)',\n",
    "                    width = 0.5)\n",
    "            ),\n",
    "            colorbar = dict(\n",
    "                title = 'Total vaccinations',\n",
    "                tickprefix = '')\n",
    "        )\n",
    "data = [trace]\n",
    "layout = go.Layout(\n",
    "    title = 'Total vaccinations per country',\n",
    "    geo = dict(\n",
    "        showframe = True,\n",
    "        showlakes = True,\n",
    "        showcoastlines = True,\n",
    "        projection = dict(\n",
    "            type = 'natural earth'\n",
    "        )\n",
    "    )\n",
    ")\n",
    "\n",
    "fig = dict( data=data, layout=layout )\n",
    "iplot(fig)"
   ]
  },
  {
   "cell_type": "code",
   "execution_count": null,
   "metadata": {},
   "outputs": [],
   "source": []
  },
  {
   "cell_type": "code",
   "execution_count": null,
   "metadata": {},
   "outputs": [],
   "source": []
  }
 ],
 "metadata": {
  "kernelspec": {
   "display_name": "Python 3",
   "language": "python",
   "name": "python3"
  },
  "language_info": {
   "codemirror_mode": {
    "name": "ipython",
    "version": 3
   },
   "file_extension": ".py",
   "mimetype": "text/x-python",
   "name": "python",
   "nbconvert_exporter": "python",
   "pygments_lexer": "ipython3",
   "version": "3.7.4"
  }
 },
 "nbformat": 4,
 "nbformat_minor": 2
}
